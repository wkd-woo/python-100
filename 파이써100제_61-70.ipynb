{
 "cells": [
  {
   "cell_type": "markdown",
   "source": [
    "# 문제61 : 문자열 압축하기\n",
    "\n",
    "문자열을 입력받고 연속되는 문자열을 압축해서 표현하고싶습니다.\n",
    "\n",
    "입력\n",
    "aaabbbbcdddd\n",
    "\n",
    "출력\n",
    "a3b4c1d4\n"
   ],
   "metadata": {
    "collapsed": false
   }
  },
  {
   "cell_type": "code",
   "execution_count": 20,
   "metadata": {
    "collapsed": true
   },
   "outputs": [
    {
     "name": "stdout",
     "output_type": "stream",
     "text": [
      "a4b3c3d3"
     ]
    }
   ],
   "source": [
    "문자열 = list(input())\n",
    "\n",
    "문자열_중복_X = set()\n",
    "\n",
    "for 문자 in 문자열:\n",
    "    문자열_중복_X.add(문자)\n",
    "\n",
    "for i in 문자열_중복_X:\n",
    "    print(f'{i}{문자열.count(i)}', end='')"
   ]
  },
  {
   "cell_type": "code",
   "execution_count": null,
   "outputs": [],
   "source": [
    "#답1\n",
    "user_input = input()\n",
    "s = ''\n",
    "storeString = user_input[0]\n",
    "count = 0\n",
    "for i in user_input:\n",
    "    if i == storeString:\n",
    "        count += 1\n",
    "    else:\n",
    "        s += str(count) + storeString\n",
    "        storeString = i\n",
    "        count = 1\n",
    "s += str(count) + storeString\n",
    "print(s)\n",
    "\n",
    "#답2 - 이해를 돕기 위한 예제\n",
    "\n",
    "import re\n",
    "\n",
    "input_data = 'aaabbccccccasss'\n",
    "rule = re.compile('[a-c]+')\n",
    "\n",
    "one = re.findall('b', input_data)\n",
    "two = re.findall(rule, input_data)\n",
    "three = re.findall('(\\\\w)(\\\\1*)', input_data)\n",
    "\n",
    "print(one)\n",
    "print(two)\n",
    "print(three)\n",
    "\n",
    "#답2 - 풀이\n",
    "\n",
    "import re\n",
    "\n",
    "input_data = 'aaabbccccccasss'\n",
    "rule = re.compile('[a-c]+')\n",
    "\n",
    "one = re.findall('b', input_data)\n",
    "two = re.findall(rule, input_data)\n",
    "three = re.findall('(\\\\w)(\\\\1*)', input_data)\n",
    "\n",
    "print(one)\n",
    "print(two)\n",
    "print(three)\n",
    "\n",
    "s = ''\n",
    "for i, j in three:\n",
    "    s += str(len(j) + 1) + i\n",
    "print(s)"
   ],
   "metadata": {
    "collapsed": false,
    "pycharm": {
     "name": "#%%\n"
    }
   }
  },
  {
   "cell_type": "markdown",
   "source": [
    "# 문제62 : 20190923출력하기\n",
    "\n",
    "`20190923`을 출력합니다.  아래 기준만 만족하면 됩니다.\n",
    "\n",
    "1. 코드 내에 숫자가 없어야 합니다.\n",
    "    - 예) print(20190923)이라고 하시면 안됩니다.\n",
    "2. 파일 이름이나 경로를 사용해서는 안됩니다.\n",
    "3. 시간, 날짜 함수를 사용해서는 안됩니다.\n",
    "4. 에러 번호 출력을 이용해서는 안됩니다.\n",
    "5. input을 이용해서는 안됩니다."
   ],
   "metadata": {
    "collapsed": false
   }
  },
  {
   "cell_type": "code",
   "execution_count": 38,
   "outputs": [
    {
     "name": "stdout",
     "output_type": "stream",
     "text": [
      "20190923\n"
     ]
    }
   ],
   "source": [
    "result = ''\n",
    "third = str(len(result))\n",
    "l = 'abcdefghijklmnopqrs'\n",
    "second = str(len(l))\n",
    "first = str(len(l + 't'))\n",
    "forth = str(len('ineedthis'))\n",
    "last = str(len(l + 'uvwx'))\n",
    "result = first + second + third + forth + last\n",
    "print(result)"
   ],
   "metadata": {
    "collapsed": false,
    "pycharm": {
     "name": "#%%\n"
    }
   }
  },
  {
   "cell_type": "code",
   "execution_count": 39,
   "outputs": [
    {
     "name": "stdout",
     "output_type": "stream",
     "text": [
      "20190923\n"
     ]
    }
   ],
   "source": [
    "string = 'aacddddddddd'\n",
    "a = string.count('a')  #2\n",
    "b = string.count('b')  #0\n",
    "c = string.count('c')  #1\n",
    "d = string.count('d')  #9\n",
    "print(int(str(a) + str(b) + str(c) + str(d) + str(b) + str(d) + str(a) + str(a + 1)))"
   ],
   "metadata": {
    "collapsed": false,
    "pycharm": {
     "name": "#%%\n"
    }
   }
  },
  {
   "cell_type": "markdown",
   "source": [
    "# 문제63 : 친해지고 싶어\n",
    "\n",
    "한국대학교의 김한국교수님은 학생들과 친해지기 위해서 딸에게 줄임말을 배우기로 했습니다.\n",
    "딸은 '복잡한 세상 편하게 살자' 라는 문장을 '복세편살'로 줄여 말합니다.\n",
    "\n",
    "교수님이 줄임말을 배우기 위해 위와 같이 어떤 입력이 주어지면 앞 글자만 줄여 출력하도록 해주세요.\n",
    "\n",
    "입력 - 입력은 한글 혹은 영어로 입력됩니다.\n",
    "복잡한 세상 편하게 살자\n",
    "\n",
    "\n",
    "출력 - 띄어쓰기를 기준으로 하여 짧은 형태로 출력합니다.\n",
    "복세편살\n"
   ],
   "metadata": {
    "collapsed": false
   }
  },
  {
   "cell_type": "code",
   "execution_count": 49,
   "outputs": [
    {
     "name": "stdout",
     "output_type": "stream",
     "text": [
      "복세편살\n"
     ]
    }
   ],
   "source": [
    "입력 = list((input().split(' ')))\n",
    "별다줄 = ''\n",
    "\n",
    "for 단어 in 입력:\n",
    "    별다줄 += 단어[:1]\n",
    "\n",
    "print(별다줄)"
   ],
   "metadata": {
    "collapsed": false,
    "pycharm": {
     "name": "#%%\n"
    }
   }
  },
  {
   "cell_type": "markdown",
   "source": [
    "# 문제64 : 이상한 엘레베이터\n",
    "\n",
    "정량 N에 정확히 맞춰야만 움직이는 화물용 엘레베이터가 있습니다.\n",
    "화물은 7kg, 3kg 두 가지이며 팔이 아픈 은후는 가장 적게 화물을 옮기고 싶습니다.\n",
    "\n",
    "예를 들어 정량이 24kg이라면 3kg 8개를 옮기는 것 보다는\n",
    "7kg 3개, 3kg 1개 즉 4개로 더 적게 옮길 수 있습니다.\n",
    "\n",
    "**입력**\n",
    "정량 N이 입력됩니다.\n",
    "\n",
    "**출력**\n",
    "가장 적게 옮길 수 있는 횟수를 출력합니다.\n",
    "만약 어떻게 해도 정량이 N이 되지 않는다면 -1을 출력합니다.\n"
   ],
   "metadata": {
    "collapsed": false
   }
  },
  {
   "cell_type": "code",
   "execution_count": 63,
   "outputs": [
    {
     "name": "stdout",
     "output_type": "stream",
     "text": [
      "7kg: 0, 3kg: 6, 총 6\n"
     ]
    }
   ],
   "source": [
    "def solution(정량):\n",
    "    화물_1 = 정량 // 7\n",
    "    화물_2 = 0\n",
    "    if 정량 * 7 == N:\n",
    "        return 화물_1\n",
    "    while 화물_1 + 화물_2 >= 0:\n",
    "        if (정량 - (화물_1 * 7)) % 3 == 0:\n",
    "            화물_2 = (정량 - (화물_1 * 7)) // 3\n",
    "            return print(f'7kg: {화물_1}, 3kg: {화물_2}, 총 {화물_1 + 화물_2}')\n",
    "        else:\n",
    "            화물_1 -= 1\n",
    "\n",
    "    return print(화물_1)\n",
    "\n",
    "\n",
    "N = int(input())\n",
    "solution(N)"
   ],
   "metadata": {
    "collapsed": false,
    "pycharm": {
     "name": "#%%\n"
    }
   }
  },
  {
   "cell_type": "code",
   "execution_count": null,
   "outputs": [],
   "source": [
    "#64번 이상한 엘리베이터\n",
    "N = int(input())\n",
    "result = 0\n",
    "\n",
    "while True:\n",
    "    if N % 7 == 0:\n",
    "        result += N // 7\n",
    "        print(result)\n",
    "        break\n",
    "    N -= 3\n",
    "    result += 1\n",
    "    if N < 0:\n",
    "        print(-1)\n",
    "        break"
   ],
   "metadata": {
    "collapsed": false,
    "pycharm": {
     "name": "#%%\n"
    }
   }
  },
  {
   "cell_type": "markdown",
   "source": [
    "# 문제65 : 변형된 리스트\n",
    "\n",
    "a = [1,2,3,4]\n",
    "b = [a,b,c,d]\n",
    "이런 리스트가 있을 때 [[1,a],[b,2],[3,c],[d,4]] 이런식으로 a,b리스트가 번갈아가면서 출력되게 해주세요."
   ],
   "metadata": {
    "collapsed": false
   }
  },
  {
   "cell_type": "code",
   "execution_count": 74,
   "outputs": [
    {
     "name": "stdout",
     "output_type": "stream",
     "text": [
      "1,a 2,b 3,c 4,d "
     ]
    }
   ],
   "source": [
    "a = [1, 2, 3, 4]\n",
    "b = ['a', 'b', 'c', 'd']\n",
    "\n",
    "for i, j in zip(a, b):\n",
    "    print(f'{i},{j}', end=' ')"
   ],
   "metadata": {
    "collapsed": false,
    "pycharm": {
     "name": "#%%\n"
    }
   }
  },
  {
   "cell_type": "code",
   "execution_count": 76,
   "outputs": [
    {
     "name": "stdout",
     "output_type": "stream",
     "text": [
      "[['a', '1'], ['2', 'b'], ['c', '3'], ['4', 'd']]\n"
     ]
    }
   ],
   "source": [
    "a = input().split(' ')\n",
    "b = input().split(' ')\n",
    "\n",
    "c = []\n",
    "count = 0\n",
    "\n",
    "for i, j in zip(a, b):\n",
    "    if count % 2 == 0:\n",
    "        c.append([i, j])\n",
    "    else:\n",
    "        c.append([j, i])\n",
    "    count += 1\n",
    "\n",
    "print(c)\n",
    "\n",
    "# [[1,'a'],['b',2],[3,'c'],['d',4]]"
   ],
   "metadata": {
    "collapsed": false,
    "pycharm": {
     "name": "#%%\n"
    }
   }
  },
  {
   "cell_type": "markdown",
   "source": [
    "# 문제66 : 블럭탑쌓기\n",
    "\n",
    "\n",
    "탑을 쌓기 위해 각 크기별로 준비된 블럭들을 정해진 순서에 맞게 쌓아햐 합니다.\n",
    "순서에 맞게 쌓지 않으면 무너질 수 있습니다.\n",
    "예를 들면 정해진 순서가 BAC 라면 A 다음 C가 쌓아져야 합니다.\n",
    "선행으로 쌓아야 하는 블럭이 만족된 경우라면 탑이 무너지지 않습니다.\n",
    "\n",
    "- B를 쌓지 않아도 A와 C를 쌓을 수 있습니다.\n",
    "- B 다음 블럭이 C가 될 수 있습니다.\n",
    "\n",
    "쌓아져 있는 블럭 탑이 순서에 맞게 쌓아져 있는지 확인하세요.\n",
    "\n",
    "1. 블럭은 알파벳 대문자로 표기합니다.\n",
    "2. 규칙에 없는 블럭이 사용될 수 있습니다.\n",
    "3. 중복된 블럭은 존재하지 않습니다.\n",
    "\n",
    "입력\n",
    "탑 = [\"ABCDEF\", \"BCAD\", \"ADEFQRX\", \"BEDFG\"]\n",
    "규칙 = \"ABD\"\n",
    "\n",
    "출력\n",
    "[\"가능\",\"불가능\",\"가능\",\"가능]\n"
   ],
   "metadata": {
    "collapsed": false
   }
  },
  {
   "cell_type": "code",
   "execution_count": 30,
   "outputs": [
    {
     "name": "stdout",
     "output_type": "stream",
     "text": [
      "['ㅁㄴㅇㅁㄴㅇ', 'ㅁㄴㅇㅁㄴㅇ', 'ㄴㅇㅁ']\n"
     ]
    }
   ],
   "source": [
    "from collections import OrderedDict\n",
    "\n",
    "탑 = list(map(lambda x: x.upper(), input().split()))\n",
    "규칙 = list(OrderedDict.fromkeys(map(lambda x: x.upper(), input().strip())))\n",
    "\n",
    "for i in 규칙:\n",
    "    for j in 탑:\n",
    "        if\n"
   ],
   "metadata": {
    "collapsed": false,
    "pycharm": {
     "name": "#%%\n"
    }
   }
  },
  {
   "cell_type": "code",
   "execution_count": 32,
   "outputs": [
    {
     "name": "stdout",
     "output_type": "stream",
     "text": [
      "['가능', '불가능', '가능', '가능']\n"
     ]
    }
   ],
   "source": [
    "def solution(전체블록, 규칙):\n",
    "    answer = []\n",
    "    for 부분블록 in 전체블록:\n",
    "        answer.append(블록순서체크(부분블록, 규칙))\n",
    "    return answer\n",
    "\n",
    "\n",
    "def 블록순서체크(부분블록, 규칙):\n",
    "    임시변수 = 규칙.index(규칙[0])\n",
    "    for 문자 in 부분블록:\n",
    "        if 문자 in 규칙:\n",
    "            if 임시변수 > 규칙.index(문자):\n",
    "                return '불가능'\n",
    "            임시변수 = 규칙.index(문자)\n",
    "    return '가능'\n",
    "\n",
    "\n",
    "전체블록 = ['ABCDEF', 'BCAD', 'ADEFQRX', 'BEDFG']\n",
    "규칙 = 'ABD'\n",
    "\n",
    "print(solution(전체블록, 규칙))"
   ],
   "metadata": {
    "collapsed": false,
    "pycharm": {
     "name": "#%%\n"
    }
   }
  },
  {
   "cell_type": "markdown",
   "source": [
    "# 문제67 : 민규의 악수\n",
    "\n",
    "광장에서 모인 사람들과 악수를 하는 행사가 열렸다.\n",
    "참가자인 민규는 몇명의 사람들과 악수를 한 후 중간에 일이 생겨 집으로 갔다.\n",
    "이 행사에서 진행된 악수는 총 n번이라고 했을때.\n",
    "\n",
    "민규는 몇번의 악수를 하고 집으로 돌아갔을까?\n",
    "이때 민규를 포함한 행사 참가자는 몇명일까?\n",
    "\n",
    "- 악수는 모두 1대 1로 진행이 된다.\n",
    "- 민규를 제외한 모든 참가자는 자신을 제외한 참가자와 모두 한번씩 악수를 한다.\n",
    "- 같은 상대와 중복된 악수는 카운트 하지 않는다.\n",
    "- 민규를 제외한 참가자는 행사를 모두 마쳤다.\n",
    "\n",
    "input : n (행사에서 진행된 악수 횟수)\n",
    "output : [ 민규의 악수횟수 , 행사참가자]\n",
    "예)\n"
   ],
   "metadata": {
    "collapsed": false
   }
  },
  {
   "cell_type": "code",
   "execution_count": 51,
   "outputs": [],
   "source": [
    "def solution(n):\n",
    "    people = 0\n",
    "    while True:\n",
    "        if people * (people - 1) / 2 < n:\n",
    "            people += 1\n",
    "        else:\n",
    "            normal = people * (people - 1) / 2\n",
    "            break\n",
    "    left_person = int(people - 1 - (normal - n))\n",
    "    return [left_person, people]"
   ],
   "metadata": {
    "collapsed": false,
    "pycharm": {
     "name": "#%%\n"
    }
   }
  },
  {
   "cell_type": "code",
   "execution_count": 52,
   "outputs": [
    {
     "data": {
      "text/plain": "[4, 12]"
     },
     "execution_count": 52,
     "metadata": {},
     "output_type": "execute_result"
    }
   ],
   "source": [
    "solution(59)"
   ],
   "metadata": {
    "collapsed": false,
    "pycharm": {
     "name": "#%%\n"
    }
   }
  },
  {
   "cell_type": "code",
   "execution_count": 53,
   "outputs": [],
   "source": [
    "def solution(n):\n",
    "    people = 0\n",
    "    total = 0\n",
    "    while (True):\n",
    "        total = people * (people - 1) / 2\n",
    "        if n < total:\n",
    "            break\n",
    "        people += 1\n",
    "    times = int(people - (total - n) - 1)\n",
    "    return [times, people]"
   ],
   "metadata": {
    "collapsed": false,
    "pycharm": {
     "name": "#%%\n"
    }
   }
  },
  {
   "cell_type": "markdown",
   "source": [
    "# 문제68 : 버스 시간표\n",
    "\n",
    "학교가 끝난 지원이는 집에 가려고 합니다. 학교 앞에 있는 버스 시간표는 너무 복잡해서 버스 도착시간이 몇 분 남았는지 알려주는 프로그램을 만들고 싶습니다.\n",
    "버스시간표와 현재 시간이 주어졌을 때 버스 도착 시간이 얼마나 남았는지 알려주는 프로그램을 만들어주세요.\n",
    "\n",
    "- 버스 시간표와 현재시간이 입력으루 주어집니다.\n",
    "- 출력 포맷은 \"00시00분\"입니다.\n",
    "   만약 1시간 3분이 남았다면 \"01시간03분\"으로 출력해야 합니다.\n",
    "- 버스 시간표에 현재 시간보다 이전인 버스가 있다면 \"지나갔습니다.\"라고 출력합니다.\n",
    "\n",
    "\n",
    "입력\n",
    "[\"12:30\", \"13:20\", \"14:13\"]\n",
    "\"12:40\"\n",
    "\n",
    "\n",
    "출력\n",
    "['지나갔습니다', '0시간 40분', '1시간 33분']"
   ],
   "metadata": {
    "collapsed": false
   }
  },
  {
   "cell_type": "code",
   "execution_count": 97,
   "outputs": [
    {
     "name": "stdout",
     "output_type": "stream",
     "text": [
      "지나갔습니다\n",
      "0시간 40분\n",
      "1시간 33분\n"
     ]
    }
   ],
   "source": [
    "from datetime import datetime\n",
    "\n",
    "시간표 = [\"12:30\", \"13:20\", \"14:13\"]\n",
    "현재시간 = \"12:40\"\n",
    "\n",
    "\n",
    "def 시간비교(time_1, time_2):\n",
    "    diff = datetime.strptime(time_1, \"%H:%M\") - datetime.strptime(time_2, \"%H:%M\")\n",
    "    if diff.days:\n",
    "        print('지나갔습니다')\n",
    "    else:\n",
    "        hour = diff.seconds // 3600\n",
    "        minutes = (diff.seconds % 3600) // 60\n",
    "        print(f'{hour}시간 {minutes}분')\n",
    "\n",
    "\n",
    "for each in 시간표:\n",
    "    시간비교(each, \"12:40\")"
   ],
   "metadata": {
    "collapsed": false,
    "pycharm": {
     "name": "#%%\n"
    }
   }
  },
  {
   "cell_type": "code",
   "execution_count": 98,
   "outputs": [
    {
     "data": {
      "text/plain": "['지나갔습니다', '00시간 40분', '01시간 33분']"
     },
     "execution_count": 98,
     "metadata": {},
     "output_type": "execute_result"
    }
   ],
   "source": [
    "def sol(tb, rt):\n",
    "    answer = []\n",
    "    rt = rt.split(':')\n",
    "    for i in range(len(tb)):\n",
    "        time = tb[i].split(':')\n",
    "        time_to_min = ((int(time[0]) * 60 + int(time[1])) - (int(rt[0]) * 60 + int(rt[1])))\n",
    "        if time_to_min < 0:\n",
    "            answer.append(\"지나갔습니다\")\n",
    "        else:\n",
    "            a = (time_to_min) // 60\n",
    "            b = (time_to_min) % 60\n",
    "            answer.append(str(a).zfill(2) + '시간 ' + str(b).zfill(2) + '분')\n",
    "    return answer\n",
    "\n",
    "\n",
    "sol([\"12:30\", \"13:20\", \"14:13\"], \"12:40\")"
   ],
   "metadata": {
    "collapsed": false,
    "pycharm": {
     "name": "#%%\n"
    }
   }
  },
  {
   "cell_type": "markdown",
   "source": [
    "# 문제69 : 골드바흐의 추측\n",
    "\n",
    "골드바흐의 추측(Goldbach's conjecture)은 오래전부터 알려진 정수론의 미해결 문제로, 2보다 큰 모든 짝수는 두 개의 소수(Prime number)의 합으로 표시할 수 있다는 것이다. 이때 하나의 소수를 두 번 사용하는 것은 허용한다. - 위키백과\n",
    "\n",
    "위 설명에서 2보다 큰 모든 짝수를 두 소수의 합으로 나타낸 것을 골드바흐 파티션이라고 합니다.\n",
    "\n",
    "예)\n",
    "100 == 47 + 53\n",
    "56 == 19 + 37\n",
    "\n",
    "2보다 큰 짝수 n이 주어졌을 때, 골드바흐 파티션을 출력하는 코드를 작성하세요.\n",
    "\n",
    "* 해당 문제의 출력 형식은 자유롭습니다. 가능하시다면 골드바흐 파티션 모두를 출력하거나, 그 차가 작은 것을 출력하거나 그 차가 큰 것 모두 출력해보세요.\n"
   ],
   "metadata": {
    "collapsed": false
   }
  },
  {
   "cell_type": "code",
   "execution_count": 11,
   "outputs": [
    {
     "name": "stdout",
     "output_type": "stream",
     "text": [
      "12 == 7 + 5\n",
      "100 == 97 + 3\n",
      "56 == 53 + 3\n"
     ]
    }
   ],
   "source": [
    "def solution(n):\n",
    "    result = []\n",
    "    if (n > 2) & (n % 2 == 0):\n",
    "        primes = collecting_prime(n)\n",
    "    else:\n",
    "        return print(\"2보다 큰 짝수가 아닙니다\")\n",
    "\n",
    "    for i in primes:\n",
    "        instance = n - i\n",
    "        if instance in primes:\n",
    "            return print(f\"{n} == {instance} + {i}\")\n",
    "    return print(\"거짓 명제\")\n",
    "\n",
    "\n",
    "# X 이하의 모든 소수를 모음\n",
    "def collecting_prime(x):\n",
    "    prime_list = []\n",
    "    for n in range(x + 1):\n",
    "        if n <= 1:\n",
    "            pass\n",
    "        elif n == 2:\n",
    "            prime_list.append(n)\n",
    "        else:\n",
    "            for j in range(2, n):\n",
    "                if n % j == 0:\n",
    "                    break\n",
    "            else:\n",
    "                prime_list.append(n)\n",
    "    return prime_list\n",
    "\n",
    "\n",
    "# print(collecting_prime(12))\n",
    "\n",
    "solution(12)\n",
    "solution(100)\n",
    "solution(56)"
   ],
   "metadata": {
    "collapsed": false,
    "pycharm": {
     "name": "#%%\n"
    }
   }
  },
  {
   "cell_type": "code",
   "execution_count": null,
   "outputs": [],
   "source": [
    "#골드바흐의 추측\n",
    "def cal():\n",
    "    n = 10000 * 2\n",
    "    primes = []\n",
    "    a = [False, False] + [True] * (n - 1)\n",
    "\n",
    "    for i in range(2, n + 1):\n",
    "        if a[i]:\n",
    "            primes.append(i)\n",
    "            for j in range(2 * i, n + 1, i):\n",
    "                a[j] = False\n",
    "\n",
    "    return primes\n",
    "\n",
    "\n",
    "a = cal()\n",
    "\n",
    "#골드바흐파티션\n",
    "n = int(input())\n",
    "l = []\n",
    "k = []\n",
    "\n",
    "for i in range(2, n // 2 + 1):\n",
    "    if i in a and n - i in a:\n",
    "        l.append(i)\n",
    "        l.append(n - i)\n",
    "\n",
    "for i in range(0, len(l) - 1, 2):\n",
    "    k.append(l[i + 1] - l[i])\n",
    "\n",
    "index = k.index(min(k)) * 2\n",
    "print(l[index], l[index + 1])"
   ],
   "metadata": {
    "collapsed": false,
    "pycharm": {
     "name": "#%%\n"
    }
   }
  },
  {
   "cell_type": "markdown",
   "source": [
    "# 문제70 : 행렬 곱하기\n",
    "\n",
    "행렬 2개가 주어졌을 때 곱할 수 있는 행렬인지 확인하고 곱할 수 있다면 그 결과를, 곱할 수 없다면 -1을 출력하는 프로그램을 만들어주세요.\n",
    "\n",
    "* 라이브러리는 사용을 금지합니다.\n",
    "\n",
    "```\n",
    "입력\n",
    "a = ([1, 2],\n",
    "     [2, 4])\n",
    "b = ([1, 0],\n",
    "     [0, 3])\n",
    "\n",
    "출력\n",
    "([1,6], [2,12])\n",
    "```"
   ],
   "metadata": {
    "collapsed": false
   }
  },
  {
   "cell_type": "markdown",
   "source": [
    "1x1 + 2x1 +"
   ],
   "metadata": {
    "collapsed": false
   }
  },
  {
   "cell_type": "code",
   "execution_count": 38,
   "outputs": [
    {
     "name": "stdout",
     "output_type": "stream",
     "text": [
      "1\n",
      "0\n",
      "0\n",
      "6\n",
      "2\n",
      "0\n",
      "0\n",
      "12\n"
     ]
    }
   ],
   "source": [
    "matrix_1 = ([1, 2],\n",
    "            [2, 4])\n",
    "matrix_2 = ([1, 0],\n",
    "            [0, 3])\n",
    "\n",
    "\n",
    "def solution(matrix_1, matrix_2):\n",
    "    result = []\n",
    "    if len(matrix_1) != len(matrix_2[0]):\n",
    "        return -1\n",
    "\n",
    "    for r in matrix_1:\n",
    "        for i in range(len(r)):\n",
    "            for w in matrix_2:\n",
    "                result[i][] = (r[i] * w[i])\n",
    "\n",
    "solution(matrix_1, matrix_2)"
   ],
   "metadata": {
    "collapsed": false,
    "pycharm": {
     "name": "#%%\n"
    }
   }
  },
  {
   "cell_type": "code",
   "execution_count": 39,
   "outputs": [],
   "source": [
    "# 해당 함수를 완성해주세요\n",
    "def sol(a, b):\n",
    "    c = []\n",
    "    if len(a) == len(b[0]):\n",
    "        for i in range(len(a)):\n",
    "            c.append([0]*len(b[0]))\n",
    "        for i in range(len(c)):\n",
    "            for j in range(len(c[i])):\n",
    "                for k in range(len(a[i])):\n",
    "                    c[i][j] += a[i][k] * b[k][j]\n",
    "        return c\n",
    "    else:\n",
    "        return -1"
   ],
   "metadata": {
    "collapsed": false,
    "pycharm": {
     "name": "#%%\n"
    }
   }
  },
  {
   "cell_type": "code",
   "execution_count": null,
   "outputs": [],
   "source": [],
   "metadata": {
    "collapsed": false,
    "pycharm": {
     "name": "#%%\n"
    }
   }
  }
 ],
 "metadata": {
  "kernelspec": {
   "display_name": "Python 3",
   "language": "python",
   "name": "python3"
  },
  "language_info": {
   "codemirror_mode": {
    "name": "ipython",
    "version": 2
   },
   "file_extension": ".py",
   "mimetype": "text/x-python",
   "name": "python",
   "nbconvert_exporter": "python",
   "pygments_lexer": "ipython2",
   "version": "2.7.6"
  }
 },
 "nbformat": 4,
 "nbformat_minor": 0
}