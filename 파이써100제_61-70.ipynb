{
 "cells": [
  {
   "cell_type": "markdown",
   "source": [
    "# 문제61 : 문자열 압축하기\n",
    "\n",
    "문자열을 입력받고 연속되는 문자열을 압축해서 표현하고싶습니다.\n",
    "\n",
    "입력\n",
    "aaabbbbcdddd\n",
    "\n",
    "출력\n",
    "a3b4c1d4\n"
   ],
   "metadata": {
    "collapsed": false
   }
  },
  {
   "cell_type": "code",
   "execution_count": 20,
   "metadata": {
    "collapsed": true
   },
   "outputs": [
    {
     "name": "stdout",
     "output_type": "stream",
     "text": [
      "a4b3c3d3"
     ]
    }
   ],
   "source": [
    "문자열 = list(input())\n",
    "\n",
    "문자열_중복_X = set()\n",
    "\n",
    "for 문자 in 문자열:\n",
    "    문자열_중복_X.add(문자)\n",
    "\n",
    "for i in 문자열_중복_X:\n",
    "    print(f'{i}{문자열.count(i)}', end='')"
   ]
  },
  {
   "cell_type": "code",
   "execution_count": null,
   "outputs": [],
   "source": [
    "#답1\n",
    "user_input = input()\n",
    "s = ''\n",
    "storeString = user_input[0]\n",
    "count = 0\n",
    "for i in user_input:\n",
    "    if i == storeString:\n",
    "        count += 1\n",
    "    else:\n",
    "        s += str(count) + storeString\n",
    "        storeString = i\n",
    "        count = 1\n",
    "s += str(count) + storeString\n",
    "print(s)\n",
    "\n",
    "#답2 - 이해를 돕기 위한 예제\n",
    "\n",
    "import re\n",
    "\n",
    "input_data = 'aaabbccccccasss'\n",
    "rule = re.compile('[a-c]+')\n",
    "\n",
    "one = re.findall('b', input_data)\n",
    "two = re.findall(rule, input_data)\n",
    "three = re.findall('(\\\\w)(\\\\1*)', input_data)\n",
    "\n",
    "print(one)\n",
    "print(two)\n",
    "print(three)\n",
    "\n",
    "#답2 - 풀이\n",
    "\n",
    "import re\n",
    "\n",
    "input_data = 'aaabbccccccasss'\n",
    "rule = re.compile('[a-c]+')\n",
    "\n",
    "one = re.findall('b', input_data)\n",
    "two = re.findall(rule, input_data)\n",
    "three = re.findall('(\\\\w)(\\\\1*)', input_data)\n",
    "\n",
    "print(one)\n",
    "print(two)\n",
    "print(three)\n",
    "\n",
    "s = ''\n",
    "for i, j in three:\n",
    "    s += str(len(j) + 1) + i\n",
    "print(s)"
   ],
   "metadata": {
    "collapsed": false,
    "pycharm": {
     "name": "#%%\n"
    }
   }
  },
  {
   "cell_type": "markdown",
   "source": [
    "# 문제62 : 20190923출력하기\n",
    "\n",
    "`20190923`을 출력합니다.  아래 기준만 만족하면 됩니다.\n",
    "\n",
    "1. 코드 내에 숫자가 없어야 합니다.\n",
    "    - 예) print(20190923)이라고 하시면 안됩니다.\n",
    "2. 파일 이름이나 경로를 사용해서는 안됩니다.\n",
    "3. 시간, 날짜 함수를 사용해서는 안됩니다.\n",
    "4. 에러 번호 출력을 이용해서는 안됩니다.\n",
    "5. input을 이용해서는 안됩니다."
   ],
   "metadata": {
    "collapsed": false
   }
  },
  {
   "cell_type": "code",
   "execution_count": 38,
   "outputs": [
    {
     "name": "stdout",
     "output_type": "stream",
     "text": [
      "20190923\n"
     ]
    }
   ],
   "source": [
    "result = ''\n",
    "third = str(len(result))\n",
    "l = 'abcdefghijklmnopqrs'\n",
    "second = str(len(l))\n",
    "first = str(len(l + 't'))\n",
    "forth = str(len('ineedthis'))\n",
    "last = str(len(l + 'uvwx'))\n",
    "result = first + second + third + forth + last\n",
    "print(result)"
   ],
   "metadata": {
    "collapsed": false,
    "pycharm": {
     "name": "#%%\n"
    }
   }
  },
  {
   "cell_type": "code",
   "execution_count": 39,
   "outputs": [
    {
     "name": "stdout",
     "output_type": "stream",
     "text": [
      "20190923\n"
     ]
    }
   ],
   "source": [
    "string = 'aacddddddddd'\n",
    "a = string.count('a')  #2\n",
    "b = string.count('b')  #0\n",
    "c = string.count('c')  #1\n",
    "d = string.count('d')  #9\n",
    "print(int(str(a) + str(b) + str(c) + str(d) + str(b) + str(d) + str(a) + str(a + 1)))"
   ],
   "metadata": {
    "collapsed": false,
    "pycharm": {
     "name": "#%%\n"
    }
   }
  },
  {
   "cell_type": "markdown",
   "source": [
    "# 문제63 : 친해지고 싶어\n",
    "\n",
    "한국대학교의 김한국교수님은 학생들과 친해지기 위해서 딸에게 줄임말을 배우기로 했습니다.\n",
    "딸은 '복잡한 세상 편하게 살자' 라는 문장을 '복세편살'로 줄여 말합니다.\n",
    "\n",
    "교수님이 줄임말을 배우기 위해 위와 같이 어떤 입력이 주어지면 앞 글자만 줄여 출력하도록 해주세요.\n",
    "\n",
    "입력 - 입력은 한글 혹은 영어로 입력됩니다.\n",
    "복잡한 세상 편하게 살자\n",
    "\n",
    "\n",
    "출력 - 띄어쓰기를 기준으로 하여 짧은 형태로 출력합니다.\n",
    "복세편살\n"
   ],
   "metadata": {
    "collapsed": false
   }
  },
  {
   "cell_type": "code",
   "execution_count": 49,
   "outputs": [
    {
     "name": "stdout",
     "output_type": "stream",
     "text": [
      "복세편살\n"
     ]
    }
   ],
   "source": [
    "입력 = list((input().split(' ')))\n",
    "별다줄 = ''\n",
    "\n",
    "for 단어 in 입력:\n",
    "    별다줄 += 단어[:1]\n",
    "\n",
    "print(별다줄)"
   ],
   "metadata": {
    "collapsed": false,
    "pycharm": {
     "name": "#%%\n"
    }
   }
  },
  {
   "cell_type": "markdown",
   "source": [
    "# 문제64 : 이상한 엘레베이터\n",
    "\n",
    "정량 N에 정확히 맞춰야만 움직이는 화물용 엘레베이터가 있습니다.\n",
    "화물은 7kg, 3kg 두 가지이며 팔이 아픈 은후는 가장 적게 화물을 옮기고 싶습니다.\n",
    "\n",
    "예를 들어 정량이 24kg이라면 3kg 8개를 옮기는 것 보다는\n",
    "7kg 3개, 3kg 1개 즉 4개로 더 적게 옮길 수 있습니다.\n",
    "\n",
    "**입력**\n",
    "정량 N이 입력됩니다.\n",
    "\n",
    "**출력**\n",
    "가장 적게 옮길 수 있는 횟수를 출력합니다.\n",
    "만약 어떻게 해도 정량이 N이 되지 않는다면 -1을 출력합니다.\n"
   ],
   "metadata": {
    "collapsed": false
   }
  },
  {
   "cell_type": "code",
   "execution_count": 63,
   "outputs": [
    {
     "name": "stdout",
     "output_type": "stream",
     "text": [
      "7kg: 0, 3kg: 6, 총 6\n"
     ]
    }
   ],
   "source": [
    "def solution(정량):\n",
    "    화물_1 = 정량 // 7\n",
    "    화물_2 = 0\n",
    "    if 정량 * 7 == N:\n",
    "        return 화물_1\n",
    "    while 화물_1 + 화물_2 >= 0:\n",
    "        if (정량 - (화물_1 * 7)) % 3 == 0:\n",
    "            화물_2 = (정량 - (화물_1 * 7)) // 3\n",
    "            return print(f'7kg: {화물_1}, 3kg: {화물_2}, 총 {화물_1 + 화물_2}')\n",
    "        else:\n",
    "            화물_1 -= 1\n",
    "\n",
    "    return print(화물_1)\n",
    "\n",
    "\n",
    "N = int(input())\n",
    "solution(N)"
   ],
   "metadata": {
    "collapsed": false,
    "pycharm": {
     "name": "#%%\n"
    }
   }
  },
  {
   "cell_type": "code",
   "execution_count": null,
   "outputs": [],
   "source": [
    "#64번 이상한 엘리베이터\n",
    "N = int(input())\n",
    "result = 0\n",
    "\n",
    "while True:\n",
    "    if N % 7 == 0:\n",
    "        result += N // 7\n",
    "        print(result)\n",
    "        break\n",
    "    N -= 3\n",
    "    result += 1\n",
    "    if N < 0:\n",
    "        print(-1)\n",
    "        break"
   ],
   "metadata": {
    "collapsed": false,
    "pycharm": {
     "name": "#%%\n"
    }
   }
  },
  {
   "cell_type": "markdown",
   "source": [
    "# 문제65 : 변형된 리스트\n",
    "\n",
    "a = [1,2,3,4]\n",
    "b = [a,b,c,d]\n",
    "이런 리스트가 있을 때 [[1,a],[b,2],[3,c],[d,4]] 이런식으로 a,b리스트가 번갈아가면서 출력되게 해주세요."
   ],
   "metadata": {
    "collapsed": false
   }
  },
  {
   "cell_type": "code",
   "execution_count": 74,
   "outputs": [
    {
     "name": "stdout",
     "output_type": "stream",
     "text": [
      "1,a 2,b 3,c 4,d "
     ]
    }
   ],
   "source": [
    "a = [1, 2, 3, 4]\n",
    "b = ['a', 'b', 'c', 'd']\n",
    "\n",
    "for i, j in zip(a, b):\n",
    "    print(f'{i},{j}', end=' ')"
   ],
   "metadata": {
    "collapsed": false,
    "pycharm": {
     "name": "#%%\n"
    }
   }
  },
  {
   "cell_type": "code",
   "execution_count": 76,
   "outputs": [
    {
     "name": "stdout",
     "output_type": "stream",
     "text": [
      "[['a', '1'], ['2', 'b'], ['c', '3'], ['4', 'd']]\n"
     ]
    }
   ],
   "source": [
    "a = input().split(' ')\n",
    "b = input().split(' ')\n",
    "\n",
    "c = []\n",
    "count = 0\n",
    "\n",
    "for i, j in zip(a, b):\n",
    "\tif count % 2 == 0:\n",
    "\t\tc.append([i, j])\n",
    "\telse:\n",
    "\t\tc.append([j, i])\n",
    "\tcount += 1\n",
    "\n",
    "print(c)\n",
    "\n",
    "# [[1,'a'],['b',2],[3,'c'],['d',4]]"
   ],
   "metadata": {
    "collapsed": false,
    "pycharm": {
     "name": "#%%\n"
    }
   }
  },
  {
   "cell_type": "code",
   "execution_count": null,
   "outputs": [],
   "source": [],
   "metadata": {
    "collapsed": false,
    "pycharm": {
     "name": "#%%\n"
    }
   }
  }
 ],
 "metadata": {
  "kernelspec": {
   "display_name": "Python 3",
   "language": "python",
   "name": "python3"
  },
  "language_info": {
   "codemirror_mode": {
    "name": "ipython",
    "version": 2
   },
   "file_extension": ".py",
   "mimetype": "text/x-python",
   "name": "python",
   "nbconvert_exporter": "python",
   "pygments_lexer": "ipython2",
   "version": "2.7.6"
  }
 },
 "nbformat": 4,
 "nbformat_minor": 0
}