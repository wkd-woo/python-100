{
 "cells": [
  {
   "cell_type": "markdown",
   "source": [
    "# 1번"
   ],
   "metadata": {
    "collapsed": false
   }
  },
  {
   "cell_type": "code",
   "execution_count": 12,
   "metadata": {
    "collapsed": true,
    "pycharm": {
     "name": "#%%\n"
    }
   },
   "outputs": [],
   "source": [
    "nums = [100, 200, 300, 400, 500]"
   ]
  },
  {
   "cell_type": "code",
   "execution_count": 14,
   "outputs": [
    {
     "data": {
      "text/plain": "[100]"
     },
     "execution_count": 14,
     "metadata": {},
     "output_type": "execute_result"
    }
   ],
   "source": [
    "#nums = nums[:3]\n",
    "#print(nums)\n",
    "nums.pop()\n",
    "nums.pop()\n",
    "nums"
   ],
   "metadata": {
    "collapsed": false,
    "pycharm": {
     "name": "#%%\n"
    }
   }
  },
  {
   "cell_type": "markdown",
   "source": [
    "# 2번"
   ],
   "metadata": {
    "collapsed": false
   }
  },
  {
   "cell_type": "code",
   "execution_count": 19,
   "outputs": [
    {
     "data": {
      "text/plain": "[200, 100, 10000, 300]"
     },
     "execution_count": 19,
     "metadata": {},
     "output_type": "execute_result"
    }
   ],
   "source": [
    "l = [200, 100, 300]\n",
    "l.insert(2, 10000)\n",
    "l"
   ],
   "metadata": {
    "collapsed": false,
    "pycharm": {
     "name": "#%%\n"
    }
   }
  },
  {
   "cell_type": "markdown",
   "source": [
    "# 3번"
   ],
   "metadata": {
    "collapsed": false
   }
  },
  {
   "cell_type": "code",
   "execution_count": 20,
   "outputs": [
    {
     "name": "stdout",
     "output_type": "stream",
     "text": [
      "<class 'list'>\n"
     ]
    }
   ],
   "source": [
    "l = [100, 200, 300]\n",
    "print(type(l))"
   ],
   "metadata": {
    "collapsed": false,
    "pycharm": {
     "name": "#%%\n"
    }
   }
  },
  {
   "cell_type": "markdown",
   "source": [
    "# 4번"
   ],
   "metadata": {
    "collapsed": false
   }
  },
  {
   "cell_type": "code",
   "execution_count": 23,
   "outputs": [
    {
     "name": "stdout",
     "output_type": "stream",
     "text": [
      "<class 'int'>\n"
     ]
    }
   ],
   "source": [
    "a = 1\n",
    "print(type(a))"
   ],
   "metadata": {
    "collapsed": false,
    "pycharm": {
     "name": "#%%\n"
    }
   }
  },
  {
   "cell_type": "code",
   "execution_count": 22,
   "outputs": [
    {
     "name": "stdout",
     "output_type": "stream",
     "text": [
      "<class 'float'>\n"
     ]
    }
   ],
   "source": [
    "a = 2.22\n",
    "print(type(a))"
   ],
   "metadata": {
    "collapsed": false,
    "pycharm": {
     "name": "#%%\n"
    }
   }
  },
  {
   "cell_type": "code",
   "execution_count": 24,
   "outputs": [
    {
     "name": "stdout",
     "output_type": "stream",
     "text": [
      "<class 'str'>\n"
     ]
    }
   ],
   "source": [
    "a = 'p'\n",
    "print(type(a))"
   ],
   "metadata": {
    "collapsed": false,
    "pycharm": {
     "name": "#%%\n"
    }
   }
  },
  {
   "cell_type": "code",
   "execution_count": 25,
   "outputs": [
    {
     "name": "stdout",
     "output_type": "stream",
     "text": [
      "<class 'list'>\n"
     ]
    }
   ],
   "source": [
    "a = [1, 2, 3]\n",
    "print(type(a))"
   ],
   "metadata": {
    "collapsed": false,
    "pycharm": {
     "name": "#%%\n"
    }
   }
  },
  {
   "cell_type": "markdown",
   "source": [
    "# 5번"
   ],
   "metadata": {
    "collapsed": false
   }
  },
  {
   "cell_type": "code",
   "execution_count": 26,
   "outputs": [
    {
     "name": "stdout",
     "output_type": "stream",
     "text": [
      "16\n"
     ]
    }
   ],
   "source": [
    "a = 10\n",
    "b = 2\n",
    "for i in range(1, 5, 2):\n",
    "    a += i\n",
    "\n",
    "print(a + b)"
   ],
   "metadata": {
    "collapsed": false,
    "pycharm": {
     "name": "#%%\n"
    }
   }
  },
  {
   "cell_type": "markdown",
   "source": [
    "# 6번 False\n",
    "다음은 파이썬 문법 중에서 False로 취급하는 것들 입니다.\n",
    "앗, False로 취급하지 않는 것이 하나 있네요! True를 찾아주세요.\n",
    "\n",
    "1) None\n",
    "2) 1\n",
    "3) \"\"\n",
    "4) 0\n",
    "5) bool(0)\n",
    "\n",
    "답: 1"
   ],
   "metadata": {
    "collapsed": false
   }
  },
  {
   "cell_type": "markdown",
   "source": [
    "# 문제 7: 변수명\n",
    "다음 중 변수명으로 사용할 수 없는 것 2개를 고르시오.\n",
    "\n",
    "1) age\n",
    "2) a\n",
    "3) as\n",
    "4) _age\n",
    "5) 1age\n",
    "\n",
    "답: as, 1age"
   ],
   "metadata": {
    "collapsed": false
   }
  },
  {
   "cell_type": "markdown",
   "source": [
    "# 문제8 : 딕셔너리 키 이름 중복\n",
    "\n",
    "딕셔너리를 다음과 같이 만들었다.\n",
    "출력값을 입력하시오. (출력값은 공백을 넣지 않습니다. )"
   ],
   "metadata": {
    "collapsed": false
   }
  },
  {
   "cell_type": "code",
   "execution_count": 27,
   "outputs": [],
   "source": [
    "d = {'height': 180, 'weight': 78, 'weight': 84, 'temparture': 36, 'eyesight': 1}"
   ],
   "metadata": {
    "collapsed": false,
    "pycharm": {
     "name": "#%%\n"
    }
   }
  },
  {
   "cell_type": "markdown",
   "source": [
    "print(d['weight'])\n",
    "\n",
    "답: 84"
   ],
   "metadata": {
    "collapsed": false
   }
  },
  {
   "cell_type": "code",
   "execution_count": 28,
   "outputs": [
    {
     "name": "stdout",
     "output_type": "stream",
     "text": [
      "84\n"
     ]
    }
   ],
   "source": [
    "print(d['weight'])"
   ],
   "metadata": {
    "collapsed": false,
    "pycharm": {
     "name": "#%%\n"
    }
   }
  },
  {
   "cell_type": "markdown",
   "source": [
    "# 문제9 : sep과 end를활용한 출력방법\n",
    "\n",
    "다음 소스 코드를 완성하여 날짜와 시간을 출력하시오."
   ],
   "metadata": {
    "collapsed": false,
    "pycharm": {
     "name": "#%% md\n"
    }
   }
  },
  {
   "cell_type": "code",
   "execution_count": 37,
   "outputs": [
    {
     "name": "stdout",
     "output_type": "stream",
     "text": [
      "2019/04/26 11:34:27\n"
     ]
    }
   ],
   "source": [
    "year = '2019'\n",
    "month = '04'\n",
    "day = '26'\n",
    "hour = '11'\n",
    "minute = '34'\n",
    "second = '27'\n",
    "\n",
    "print(year, month, day, sep='/', end=' ')\n",
    "print(hour, minute, second, sep=':')"
   ],
   "metadata": {
    "collapsed": false,
    "pycharm": {
     "name": "#%%\n"
    }
   }
  },
  {
   "cell_type": "markdown",
   "source": [
    "# 문제10: 별 찍기\n",
    "\n",
    "크리스마스 날, 은비는 친구들과 함께 파티를 하기로 했습니다. 그런데, 크리스마스 트리를 사는 것을 깜빡하고 말았습니다. 온 가게를 돌아다녀 봤지만 크리스마스 트리는 모두 품절이었습니다.\n",
    "하는 수 없이 은비는 프로그래밍으로 트리를 만들기로 합니다."
   ],
   "metadata": {
    "collapsed": false
   }
  },
  {
   "cell_type": "code",
   "execution_count": 63,
   "outputs": [
    {
     "name": "stdout",
     "output_type": "stream",
     "text": [
      "양의 정수를 입력해주세요\n"
     ]
    }
   ],
   "source": [
    "입력 = input('트리 높이를 입력해주세요')\n",
    "if 입력.isnumeric():\n",
    "\n",
    "    입력 = int(입력)\n",
    "    if 입력 < 1:\n",
    "        print(\"양의 정수를 입력해주세요!\")\n",
    "    else:\n",
    "        for i in range(입력 + 1):\n",
    "            print(' ' * (입력 - i) + \"*\" * ((2 * i) - 1))\n",
    "else:\n",
    "    print(\"양의 정수를 입력해주세요\")"
   ],
   "metadata": {
    "collapsed": false,
    "pycharm": {
     "name": "#%%\n"
    }
   }
  },
  {
   "cell_type": "markdown",
   "source": [
    "# 문제11: for를 이용한 기본 활용\n",
    "1부터 100까지 모두 더하는 Code를 <pass> 부분에 완성하세요. for를 사용해야 합니다."
   ],
   "metadata": {
    "collapsed": false
   }
  },
  {
   "cell_type": "code",
   "execution_count": 64,
   "outputs": [
    {
     "data": {
      "text/plain": "5050"
     },
     "execution_count": 64,
     "metadata": {},
     "output_type": "execute_result"
    }
   ],
   "source": [
    "s = 0\n",
    "for i in range(100):\n",
    "    s += i + 1\n",
    "\n",
    "s"
   ],
   "metadata": {
    "collapsed": false,
    "pycharm": {
     "name": "#%%\n"
    }
   }
  },
  {
   "cell_type": "markdown",
   "source": [
    "```\n",
    " 1 + 2 + 3 + ...\n",
    " ...\n",
    " 98 + 99 + 100\n",
    "```"
   ],
   "metadata": {
    "collapsed": false
   }
  },
  {
   "cell_type": "code",
   "execution_count": 2,
   "outputs": [
    {
     "data": {
      "text/plain": "5050.0"
     },
     "execution_count": 2,
     "metadata": {},
     "output_type": "execute_result"
    }
   ],
   "source": [
    "# n * (n+1) / 2\n",
    "result = 100 * (100 + 1) / 2\n",
    "result"
   ],
   "metadata": {
    "collapsed": false,
    "pycharm": {
     "name": "#%%\n"
    }
   }
  },
  {
   "cell_type": "markdown",
   "source": [
    "# 문제12 : 게임 캐릭터 클래스 만들기\n",
    "\n",
    "다음 소스코드에서 클래스를 작성하여 게임 캐릭터의 능력치와 '파이어볼'이 출력되게 만드시오.\n",
    "\n",
    "**주어진 소스 코드를 수정해선 안됩니다.**"
   ],
   "metadata": {
    "collapsed": false
   }
  },
  {
   "cell_type": "code",
   "execution_count": 65,
   "outputs": [
    {
     "name": "stdout",
     "output_type": "stream",
     "text": [
      "545 210 10\n",
      "파이어볼\n"
     ]
    }
   ],
   "source": [
    "class Wizard:\n",
    "    def __init__(self, health, mana, armor):\n",
    "        self.health = health\n",
    "        self.mana = mana\n",
    "        self.armor = armor\n",
    "\n",
    "    def attack(self):\n",
    "        print(\"파이어볼\")\n",
    "\n",
    "\n",
    "x = Wizard(health=545, mana=210, armor=10)\n",
    "print(x.health, x.mana, x.armor)\n",
    "x.attack()"
   ],
   "metadata": {
    "collapsed": false,
    "pycharm": {
     "name": "#%%\n"
    }
   }
  },
  {
   "cell_type": "markdown",
   "source": [
    "# 문제13: 몇 번째 행성인가요?\n",
    "\n",
    "우리 태양계를 이루고 있는 행성은 수성, 금성, 지구, 화성, 목성, 토성, 천왕성, 해왕성으로 총 8개 입니다. 저희는 우리 태양계의 n번째 행성이 무엇인지 알고 싶습니다.\n",
    "\n",
    "입력으로 행성의 순서를 나타내는 숫자 n이 입력됩니다. 예를들어 수성은 첫번째 행성입니다."
   ],
   "metadata": {
    "collapsed": false,
    "pycharm": {
     "name": "#%% md\n"
    }
   }
  },
  {
   "cell_type": "code",
   "execution_count": 66,
   "outputs": [],
   "source": [
    "태양계 = ['수성', '금성', '지구', '화성', '목성', '토성', '천왕성', '해왕성']"
   ],
   "metadata": {
    "collapsed": false,
    "pycharm": {
     "name": "#%%\n"
    }
   }
  },
  {
   "cell_type": "code",
   "execution_count": 76,
   "outputs": [
    {
     "name": "stdout",
     "output_type": "stream",
     "text": [
      "30번째 행성은 없습니다!\n"
     ]
    }
   ],
   "source": [
    "n = input(\"몇 번째 행성이 알고 싶으신가요?\")\n",
    "if n.isnumeric():\n",
    "    n = int(n)\n",
    "    if n > 9 or n < 1:\n",
    "        print('{}번째 행성은 없습니다!'.format(n))\n",
    "    else:\n",
    "        print(태양계[n - 1])\n",
    "else:\n",
    "    print(\"숫자가 아닙니다!\")"
   ],
   "metadata": {
    "collapsed": false,
    "pycharm": {
     "name": "#%%\n"
    }
   }
  },
  {
   "cell_type": "markdown",
   "source": [
    "# 문제14 : 3의 배수 인가요?\n",
    "\n",
    "영희는 친구와 게임을 하고 있습니다. 서로 돌아가며 랜덤으로 숫자를 하나 말하고 그게 3의 배수이면 박수를 치고 아니면 그 숫자를 그대로 말하는 게임입니다.\n",
    "\n",
    "입력으로 랜덤한 숫자 n이 주어집니다.\n",
    "\n",
    ">만약 그 수가 3의 배수라면 '짝'이라는 글자를, 3의 배수가 아니라면 n을 그대로 출력해 주세요."
   ],
   "metadata": {
    "collapsed": false
   }
  },
  {
   "cell_type": "code",
   "execution_count": 86,
   "outputs": [
    {
     "name": "stdout",
     "output_type": "stream",
     "text": [
      "짝\n"
     ]
    }
   ],
   "source": [
    "입력 = input(\"정수를 입력하세요\")\n",
    "\n",
    "if int(입력):\n",
    "\n",
    "    입력 = int(입력)\n",
    "    if 입력 % 3 == 0:\n",
    "        print(\"짝\")\n",
    "    else:\n",
    "        print(입력)\n",
    "else:\n",
    "    print(\"정수를 입력해주세요\")"
   ],
   "metadata": {
    "collapsed": false,
    "pycharm": {
     "name": "#%%\n"
    }
   }
  },
  {
   "cell_type": "markdown",
   "source": [
    "# 문제15: 자기소개\n",
    "\n",
    "신학기가 시작되고, 아이들이 돌아가면서 자기소개를 하기로 했습니다.\n",
    "\n",
    "만약 입력력으로 `김다정`이라는 이름이 주어지면\n",
    "\n",
    "> 안녕하세요 저는 김다정입니다.\n",
    "\n",
    "라고 출력하게 해주세요."
   ],
   "metadata": {
    "collapsed": false
   }
  },
  {
   "cell_type": "code",
   "execution_count": 87,
   "outputs": [
    {
     "name": "stdout",
     "output_type": "stream",
     "text": [
      "안녕하세요. 저는 장재영입니다.\n"
     ]
    }
   ],
   "source": [
    "이름 = input(\"자기소개를 해 주세요\")\n",
    "\n",
    "print(\"안녕하세요. 저는 {}입니다.\".format(이름))"
   ],
   "metadata": {
    "collapsed": false,
    "pycharm": {
     "name": "#%%\n"
    }
   }
  },
  {
   "cell_type": "markdown",
   "source": [
    "# 문제16 : 로꾸거\n",
    "\n",
    "문장이 입력되면 거꾸로 출력하는 프로그램을 만들어 봅시다."
   ],
   "metadata": {
    "collapsed": false
   }
  },
  {
   "cell_type": "code",
   "execution_count": 99,
   "outputs": [
    {
     "name": "stdout",
     "output_type": "stream",
     "text": [
      "로꾸거\n"
     ]
    }
   ],
   "source": [
    "s = input('문장을 입력해주세요')\n",
    "\n",
    "print(s[::-1])"
   ],
   "metadata": {
    "collapsed": false,
    "pycharm": {
     "name": "#%%\n"
    }
   }
  },
  {
   "cell_type": "markdown",
   "source": [
    "# 문제17: 놀이기구 키 제한\n",
    "\n",
    "유주는 놀이공원 아르바이트 중입니다. 그런데 놀이기구마다 키 제한이 있습니다.\n",
    "유주가 담당하는 놀이기구는 키가 150 이상만 탈 수 있습니다.\n",
    "\n",
    "입력으로 키가 주어지면\n",
    "키가 150이 이상이면 YES를 틀리면 NO를 출력하는 프로그램을 작성하세요."
   ],
   "metadata": {
    "collapsed": false,
    "pycharm": {
     "name": "#%% md\n"
    }
   }
  },
  {
   "cell_type": "code",
   "execution_count": 113,
   "outputs": [
    {
     "name": "stdout",
     "output_type": "stream",
     "text": [
      "NO\n"
     ]
    }
   ],
   "source": [
    "키 = input(\"키를 입력해주세요\")\n",
    "if float(키):\n",
    "    키 = float(키)\n",
    "    if 키 >= 150:\n",
    "        print(\"YES\")\n",
    "    else:\n",
    "        print(\"NO\")\n",
    "else:\n",
    "    print(\"키를 입력해주세요\")"
   ],
   "metadata": {
    "collapsed": false,
    "pycharm": {
     "name": "#%%\n"
    }
   }
  },
  {
   "cell_type": "markdown",
   "source": [
    "# 문제18: 평균 점수\n",
    "\n",
    "영하네 반은 국어, 수학, 영어 시험을 보았습니다. 영하는 친구들의 평균 점수를 구해주기로 했습니다.\n",
    "\n",
    "공백으로 구분하여 세 과목의 점수가 주어지면\n",
    "전체 평균 점수를 구하는 프로그램을 작성하세요. 단, 소숫점 자리는 모두 버립니다."
   ],
   "metadata": {
    "collapsed": false,
    "pycharm": {
     "name": "#%% md\n"
    }
   }
  },
  {
   "cell_type": "code",
   "execution_count": 125,
   "outputs": [
    {
     "name": "stdout",
     "output_type": "stream",
     "text": [
      "20\n"
     ]
    }
   ],
   "source": [
    "입력 = input(\"국어, 영어, 수학의 점수를 입력해주세요\")\n",
    "\n",
    "국어, 영어, 수학 = 입력.split()\n",
    "if 국어.isnumeric() and 영어.isnumeric() and 수학.isnumeric():\n",
    "    국어 = int(국어)\n",
    "    영어 = int(영어)\n",
    "    수학 = int(수학)\n",
    "\n",
    "    평균 = int((국어 + 영어 + 수학) / 3)\n",
    "\n",
    "    print(평균)\n",
    "\n",
    "else:\n",
    "    print(\"점수를 입력해 주세요\")"
   ],
   "metadata": {
    "collapsed": false,
    "pycharm": {
     "name": "#%%\n"
    }
   }
  },
  {
   "cell_type": "code",
   "execution_count": 127,
   "outputs": [
    {
     "name": "stdout",
     "output_type": "stream",
     "text": [
      "20\n"
     ]
    }
   ],
   "source": [
    "data = list(map(int, input().split()))\n",
    "\n",
    "print(int(sum(data) / 3))"
   ],
   "metadata": {
    "collapsed": false,
    "pycharm": {
     "name": "#%%\n"
    }
   }
  },
  {
   "cell_type": "markdown",
   "source": [
    "# 문제19 : 제곱을 구하자\n",
    "\n",
    "공백으로 구분하여 두 숫자 a와 b가 주어지면, a의 b승을 구하는 프로그램을 작성하세요."
   ],
   "metadata": {
    "collapsed": false
   }
  },
  {
   "cell_type": "code",
   "execution_count": 129,
   "outputs": [
    {
     "name": "stdout",
     "output_type": "stream",
     "text": [
      "1024\n"
     ]
    }
   ],
   "source": [
    "data = list(map(int, input().split()))\n",
    "\n",
    "print(data[0] ** data[1])"
   ],
   "metadata": {
    "collapsed": false,
    "pycharm": {
     "name": "#%%\n"
    }
   }
  },
  {
   "cell_type": "markdown",
   "source": [
    "# 문제20: 몫과 나머지\n",
    "\n",
    "공백으로 구분하여 두 숫자가 주어집니다.\n",
    "첫번째 숫자로 두번째 숫자를 나누었을 때 그 몫과 나머지를 공백으로 구분하여 출력하세요."
   ],
   "metadata": {
    "collapsed": false
   }
  },
  {
   "cell_type": "code",
   "execution_count": 132,
   "outputs": [
    {
     "name": "stdout",
     "output_type": "stream",
     "text": [
      "3 1\n"
     ]
    }
   ],
   "source": [
    "data = list(map(int, input().split()))\n",
    "\n",
    "print(data[0] // data[1], data[0] % data[1])"
   ],
   "metadata": {
    "collapsed": false,
    "pycharm": {
     "name": "#%%\n"
    }
   }
  },
  {
   "cell_type": "markdown",
   "source": [
    "# 문제21 : set은 어떻게 만드나요?\n",
    "\n",
    "다음 중 set을 만드는 방법이 아닌 것?\n",
    "\n",
    "1)  x = {1, 2, 3, 5, 6, 7}\n",
    "2)  x = {}\n",
    "3)  x = set('python')\n",
    "4)  x = set(range(5))\n",
    "5)  x = set()"
   ],
   "metadata": {
    "collapsed": false,
    "pycharm": {
     "name": "#%% md\n"
    }
   }
  },
  {
   "cell_type": "code",
   "execution_count": 5,
   "outputs": [
    {
     "name": "stdout",
     "output_type": "stream",
     "text": [
      "{1, 2, 3, 5, 6, 7}\n",
      "{}\n",
      "{'y', 'p', 't', 'o', 'h', 'n'}\n",
      "{0, 1, 2, 3, 4}\n",
      "set()\n"
     ]
    }
   ],
   "source": [
    "x = {1, 2, 3, 5, 6, 7}\n",
    "print(x)\n",
    "x = {}\n",
    "print(x)\n",
    "x = set('python')\n",
    "print(x)\n",
    "x = set(range(5))\n",
    "print(x)\n",
    "x = set()\n",
    "print(x)"
   ],
   "metadata": {
    "collapsed": false,
    "pycharm": {
     "name": "#%%\n"
    }
   }
  },
  {
   "cell_type": "markdown",
   "source": [
    "# 문제22 : 배수인지 확인하기\n",
    "\n",
    "다음 중 변수 i가 6의 배수인지 확인하는 방법으로 올바른 것은?\n",
    "\n",
    "1) i / 6 == 0\n",
    "2) i % 6 == 0\n",
    "3) i & 6 == 0\n",
    "4) i | 6 == 0\n",
    "5) i // 6 == 0\n",
    "\n",
    "답 2"
   ],
   "metadata": {
    "collapsed": false,
    "pycharm": {
     "name": "#%% md\n"
    }
   }
  },
  {
   "cell_type": "markdown",
   "source": [
    "# 문제23 : OX문제\n",
    "\n",
    "print(10/2)의 출력 결과는 5이다."
   ],
   "metadata": {
    "collapsed": false
   }
  },
  {
   "cell_type": "code",
   "execution_count": 7,
   "outputs": [
    {
     "name": "stdout",
     "output_type": "stream",
     "text": [
      "5.0\n"
     ]
    }
   ],
   "source": [
    "print(10 / 2)"
   ],
   "metadata": {
    "collapsed": false,
    "pycharm": {
     "name": "#%%\n"
    }
   }
  },
  {
   "cell_type": "markdown",
   "source": [
    "# 문제24 : 대문자로 바꿔주세요!\n",
    "\n",
    "민지는 국제 포럼에서 아르바이트를 하게 되었습니다. 민지는 각 국에서 온 참가자들의 명단을 엑셀로 정리하고 있는데 참가자들 이름이 어떤 이는 전부 소문자, 어떤 이는 전부 대문자로 써져 있는 등 형식이 제각각이었습니다.\n",
    "\n",
    "민지를 위해 이름이 입력되면 전부 대문자로 출력되는 프로그램을 만들어주세요."
   ],
   "metadata": {
    "collapsed": false
   }
  },
  {
   "cell_type": "code",
   "execution_count": 10,
   "outputs": [
    {
     "data": {
      "text/plain": "'MARY'"
     },
     "execution_count": 10,
     "metadata": {},
     "output_type": "execute_result"
    }
   ],
   "source": [
    "입력 = input(\"이름을 입력해주세요\")\n",
    "\n",
    "result = 입력.upper();\n",
    "result"
   ],
   "metadata": {
    "collapsed": false,
    "pycharm": {
     "name": "#%%\n"
    }
   }
  },
  {
   "cell_type": "markdown",
   "source": [
    "# 문제25 : 원의 넓이를 구하세요\n",
    "\n",
    "원의 넓이는 `반지름의 길이 x 반지름의 길이 x 3.14`로 구할 수 있습니다.\n",
    "함수를 사용하여 원의 넓이를 구하는 코드를 작성해봅시다.\n",
    "\n",
    "**입력을 반지름의 길이로 정수 n이 주어지면 원의 넓이를 반환**하는 함수를 만들어 주세요.\n",
    "(입력을 해야하기 때문에 input을 반드시 사용해야합니다)"
   ],
   "metadata": {
    "collapsed": false,
    "pycharm": {
     "name": "#%% md\n"
    }
   }
  },
  {
   "cell_type": "code",
   "execution_count": 25,
   "outputs": [
    {
     "name": "stdout",
     "output_type": "stream",
     "text": [
      "1661.0600000000002\n"
     ]
    }
   ],
   "source": [
    "반지름 = input(\"반지름의 길이를 입력해 주세요\")\n",
    "try:\n",
    "    int(반지름)\n",
    "    반지름 = int(반지름)\n",
    "    원의_넓이 = (반지름 ** 2) * 3.14\n",
    "    print(원의_넓이)\n",
    "except ValueError as e:\n",
    "    print(\"반지름의 길이(숫자)를 입력해 주세요\")"
   ],
   "metadata": {
    "collapsed": false,
    "pycharm": {
     "name": "#%%\n"
    }
   }
  },
  {
   "cell_type": "code",
   "execution_count": 26,
   "outputs": [
    {
     "name": "stdout",
     "output_type": "stream",
     "text": [
      "50.24\n"
     ]
    }
   ],
   "source": [
    "def solution(n):\n",
    "    return n * n * 3.14\n",
    "\n",
    "\n",
    "print(solution(int(input())))"
   ],
   "metadata": {
    "collapsed": false,
    "pycharm": {
     "name": "#%%\n"
    }
   }
  },
  {
   "cell_type": "markdown",
   "source": [
    "# 문제26 : 행성 문제2\n",
    "\n",
    "우리 태양계를 이루는 행성은 수성, 금성, 지구, 화성, 목성, 토성, 천왕성, 해왕성이 있습니다.\n",
    "이 행성들의 영어 이름은 Mercury, Venus, Earth, Mars, Jupiter, Saturn, Uranus, Neptune입니다.\n",
    "\n",
    "행성의 한글 이름을 입력하면 영어 이름을 반환하는 프로그램을 만들어 주세요."
   ],
   "metadata": {
    "collapsed": false
   }
  },
  {
   "cell_type": "code",
   "execution_count": 35,
   "outputs": [
    {
     "name": "stdout",
     "output_type": "stream",
     "text": [
      "Mercury\n",
      "Venus\n",
      "Neptune\n",
      "태양계에 존재하지 않는 행성입니다\n"
     ]
    }
   ],
   "source": [
    "태양계 = {'수성': 'Mercury', '금성': 'Venus', '지구': 'Earth', '화성': 'Mars', '목성': 'Jupiter', '토성': 'Saturn', '천왕성': 'Uranus',\n",
    "       '해왕성': 'Neptune'}\n",
    "\n",
    "\n",
    "def solution(planet):\n",
    "    try:\n",
    "        print(태양계[planet])\n",
    "    except KeyError:\n",
    "        print('태양계에 존재하지 않는 행성입니다.')\n",
    "\n",
    "\n",
    "solution('수성')\n",
    "solution('금성')\n",
    "solution('해왕성')\n",
    "solution('명왕성')"
   ],
   "metadata": {
    "collapsed": false,
    "pycharm": {
     "name": "#%%\n"
    }
   }
  },
  {
   "cell_type": "markdown",
   "source": [
    "# 문제27 : 딕셔너리 만들기\n",
    "\n",
    "첫 줄에는 학생의 이름이 공백으로 구분되어 입력되고, 두번째 줄에는 그 학생의 수학 점수가 공백으로 구분되어 주어집니다.\n",
    "\n",
    "두 개를 합쳐 학생의 이름이 key이고 value가 수학 점수인 딕셔너리를 출력해주세요."
   ],
   "metadata": {
    "collapsed": false
   }
  },
  {
   "cell_type": "code",
   "execution_count": 40,
   "outputs": [
    {
     "data": {
      "text/plain": "{'예진': 100, '혜수': 30}"
     },
     "execution_count": 40,
     "metadata": {},
     "output_type": "execute_result"
    }
   ],
   "source": [
    "keys = input().split()\n",
    "values = map(int, input().split())\n",
    "\n",
    "result = dict(zip(keys, values))\n",
    "result"
   ],
   "metadata": {
    "collapsed": false,
    "pycharm": {
     "name": "#%%\n"
    }
   }
  },
  {
   "cell_type": "markdown",
   "source": [
    "# 문제28 : 2-gram\n",
    "\n",
    "2-gram이란 문자열에서 2개의 연속된 요소를 출력하는 방법입니다.\n",
    "예를 들어 'Python'을 2-gram으로 반복해 본다면 다음과 같은 결과가 나옵니다.\n",
    "\n",
    ">Py\n",
    "yt\n",
    "th\n",
    "ho\n",
    "on"
   ],
   "metadata": {
    "collapsed": false,
    "pycharm": {
     "name": "#%% md\n"
    }
   }
  },
  {
   "cell_type": "code",
   "execution_count": 49,
   "outputs": [
    {
     "name": "stdout",
     "output_type": "stream",
     "text": [
      "Py\n",
      "yt\n",
      "th\n",
      "ho\n",
      "on\n"
     ]
    }
   ],
   "source": [
    "s = input('문자열을 입력해주세요.')\n",
    "\n",
    "for i in range(len(s) - 1):\n",
    "    print(s[i:i + 2])"
   ],
   "metadata": {
    "collapsed": false,
    "pycharm": {
     "name": "#%%\n"
    }
   }
  },
  {
   "cell_type": "markdown",
   "source": [
    "# 문제29 : 대문자만 지나가세요\n",
    "\n",
    "진구는 영어 학원 아르바이트를 하고 있습니다. 반 아이들은 알파벳을 공부하는 학생들인데 오늘은 대문자 쓰기 시험을 봤습니다.\n",
    "\n",
    "**알파벳 하나만을 입력하고 그 알파벳이 대문자이면 YES를 아니면 NO를 출력**하는 프로그램을 만들어 주세요.\n",
    "\n",
    "→ 알파벳 여러개를 입력하고 여러개 입력한 것 중 대문자만 출력해주는 프로그램도 만들어보세요."
   ],
   "metadata": {
    "collapsed": false
   }
  },
  {
   "cell_type": "code",
   "execution_count": 74,
   "outputs": [
    {
     "name": "stdout",
     "output_type": "stream",
     "text": [
      "ABC\n"
     ]
    }
   ],
   "source": [
    "def only_upper(s):\n",
    "    if s.isupper():\n",
    "        return True\n",
    "    elif s.islower():\n",
    "        return False\n",
    "    else:\n",
    "        print(\"{} is not a alphabet.\".format(s))\n",
    "        return False\n",
    "\n",
    "\n",
    "def solution(string):\n",
    "    r = list()\n",
    "    for letter in string:\n",
    "        if only_upper(letter):\n",
    "            r.append(letter)\n",
    "    print(''.join(r))\n",
    "\n",
    "\n",
    "입력 = input()\n",
    "\n",
    "solution(입력)"
   ],
   "metadata": {
    "collapsed": false,
    "pycharm": {
     "name": "#%%\n"
    }
   }
  },
  {
   "cell_type": "markdown",
   "source": [
    "# 문제30 : 문자열 속 문자 찾기\n",
    "\n",
    "문자 pineapple에는 apple이라는 문자가 숨어 있습니다. 원범이는 이렇듯 문자열 속에 숨어있는 문자를 찾아보려고 합니다.\n",
    "\n",
    "입력으로 첫 줄에 문자열이 주어지고 둘째 줄에 찾을 문자가 주어지면\n",
    "**그 문자가 시작하는 index를 반환하는 프로그램**을 만들어 주세요"
   ],
   "metadata": {
    "collapsed": false
   }
  },
  {
   "cell_type": "markdown",
   "source": [
    "# 문제31 : 파이썬 자료형의 복잡도\n",
    "\n",
    "다음 리스트의 내장함수의 시간 복잡도가 O(1)이 아닌것은?\n",
    "\n",
    "1)  l[i]\n",
    "2)  l.append(5)\n",
    "3)  l[a:b]\n",
    "4)  l.pop()\n",
    "5)  l.clear()"
   ],
   "metadata": {
    "collapsed": false,
    "pycharm": {
     "name": "#%% md\n"
    }
   }
  },
  {
   "cell_type": "markdown",
   "source": [
    "답: 3) l[a:b]"
   ],
   "metadata": {
    "collapsed": false
   }
  },
  {
   "cell_type": "markdown",
   "source": [
    "# 문제32 : 문자열 만들기\n",
    "\n",
    "취업 준비생인 혜림이는 자기소개서를 쓰고 있습니다. 열심히 자기소개서를 작성하던 도중 혜림이는 자기가 지금까지 단어를 얼마나 적었는지 궁금하게 됩니다.\n",
    "\n",
    "혜림이를 위해 **문자열을 입력받으면 단어의 갯수를 출력하는 프로그램**을 작성해 주세요."
   ],
   "metadata": {
    "collapsed": false
   }
  },
  {
   "cell_type": "markdown",
   "source": [
    "---\n",
    "\n",
    "# **입출력**\n",
    "\n",
    "## 입력: 안녕하세요. 저는 제주대학교 컴퓨터공학전공 혜림입니다.\n",
    "## 출력: 5\n"
   ],
   "metadata": {
    "collapsed": false
   }
  },
  {
   "cell_type": "code",
   "execution_count": 4,
   "outputs": [
    {
     "data": {
      "text/plain": "5"
     },
     "execution_count": 4,
     "metadata": {},
     "output_type": "execute_result"
    }
   ],
   "source": [
    "data = input(\"문자열을 입력해 주세요\").split(' ')\n",
    "\n",
    "number = len(data)\n",
    "number"
   ],
   "metadata": {
    "collapsed": false,
    "pycharm": {
     "name": "#%%\n"
    }
   }
  },
  {
   "cell_type": "code",
   "execution_count": 5,
   "outputs": [
    {
     "name": "stdout",
     "output_type": "stream",
     "text": [
      "5\n"
     ]
    }
   ],
   "source": [
    "n = input()\n",
    "l = list(n.strip().split())\n",
    "print(len(l))"
   ],
   "metadata": {
    "collapsed": false,
    "pycharm": {
     "name": "#%%\n"
    }
   }
  },
  {
   "cell_type": "markdown",
   "source": [
    "# 문제33 : 거꾸로 출력하기\n",
    "\n",
    "한 줄에 여러개의 숫자가 입력되면, 역순으로 그 숫자들을 하나씩 출력하는 프로그램을 작성하시오.\n",
    "\n",
    "## 입출력\n",
    "\n",
    "## 입력 : 1 2 3 4 5\n",
    "## 출력 : 5 4 3 2 1\n",
    "\n",
    "## 입력 : 2 4 6 7 8\n",
    "## 출력 : 8 7 6 4 2\n"
   ],
   "metadata": {
    "collapsed": false
   }
  },
  {
   "cell_type": "code",
   "execution_count": 44,
   "outputs": [
    {
     "name": "stdout",
     "output_type": "stream",
     "text": [
      "5 4 3 2 1 "
     ]
    }
   ],
   "source": [
    "data = list(map(int, (input())))\n",
    "\n",
    "for i in range(len(data)):\n",
    "    print(data.pop(), end=' ')"
   ],
   "metadata": {
    "collapsed": false,
    "pycharm": {
     "name": "#%%\n"
    }
   }
  },
  {
   "cell_type": "code",
   "execution_count": 49,
   "outputs": [
    {
     "name": "stdout",
     "output_type": "stream",
     "text": [
      "['12345']\n",
      "12345 "
     ]
    }
   ],
   "source": [
    "data = input()\n",
    "l = list(data.strip().split())\n",
    "\n",
    "print(l)\n",
    "for i in range(len(l)):\n",
    "    print(l.pop(), sep=' ', end=' ')"
   ],
   "metadata": {
    "collapsed": false,
    "pycharm": {
     "name": "#%%\n"
    }
   }
  },
  {
   "cell_type": "markdown",
   "source": [
    "# 문제34 : sort 확인하기\n",
    "\n",
    "민주는 체육부장으로 체육시간이 되면 반 친구들이 제대로 키 순서대로 모였는지를 확인해야 한다. 그런데 요즘 민주는 그것이 너무 번거롭게 느껴져 한 번에 확인하고 싶어한다.\n",
    "\n",
    "민주를 위해 키가 주어지면 순서대로 제대로 섰는지 확인하는 프로그램을 작성해보자.\n"
   ],
   "metadata": {
    "collapsed": false
   }
  },
  {
   "cell_type": "code",
   "execution_count": 79,
   "outputs": [
    {
     "name": "stdout",
     "output_type": "stream",
     "text": [
      "YES\n",
      "입력: [155, 156, 165, 166, 169, 176]\n",
      "출력: [155, 156, 165, 166, 169, 176]\n"
     ]
    }
   ],
   "source": [
    "data = list(map(int, input().strip().split()))\n",
    "\n",
    "if data == sorted(data):\n",
    "    print(\"YES\")\n",
    "else:\n",
    "    print(\"NO\")\n",
    "\n",
    "print(f'입력: {data}')\n",
    "print(f'출력: {sorted(data)}')"
   ],
   "metadata": {
    "collapsed": false,
    "pycharm": {
     "name": "#%%\n"
    }
   }
  },
  {
   "cell_type": "markdown",
   "source": [
    "# 문제35 : Factory 함수 사용하기\n",
    "\n",
    "2제곱, 3제곱, 4제곱을 할 수 있는 Factory 함수를 만들려고 합니다.\n"
   ],
   "metadata": {
    "collapsed": false
   }
  },
  {
   "cell_type": "code",
   "execution_count": 82,
   "outputs": [
    {
     "name": "stdout",
     "output_type": "stream",
     "text": [
      "100\n",
      "1000\n",
      "10000\n"
     ]
    }
   ],
   "source": [
    "def one(n):\n",
    "    def two(value):\n",
    "        result = value ** n\n",
    "        return result\n",
    "\n",
    "    return two\n",
    "\n",
    "\n",
    "a = one(2)\n",
    "b = one(3)\n",
    "c = one(4)\n",
    "print(a(10))\n",
    "print(b(10))\n",
    "print(c(10))"
   ],
   "metadata": {
    "collapsed": false,
    "pycharm": {
     "name": "#%%\n"
    }
   }
  },
  {
   "cell_type": "markdown",
   "source": [
    "# 문제36 : 구구단 출력하기\n",
    "\n",
    "1~9까지의 숫자 중 하나를 입력하면 그 단의 구구단 결과를 한 줄에 출력하는 프로그램을 작성하세요."
   ],
   "metadata": {
    "collapsed": false,
    "pycharm": {
     "name": "#%% md\n"
    }
   }
  },
  {
   "cell_type": "code",
   "execution_count": 101,
   "outputs": [
    {
     "name": "stdout",
     "output_type": "stream",
     "text": [
      "1~9 까지의 숫자를 입력해주세요\n"
     ]
    }
   ],
   "source": [
    "try:\n",
    "    number = int(input())\n",
    "    if number < 10 and number > 0:\n",
    "        for i in range(9):\n",
    "            print(number * (i + 1), end=' ')\n",
    "    else:\n",
    "        print(\"1~9 까지의 숫자를 입력해주세요\")\n",
    "except:\n",
    "    print(\"1~9까지의 숫자 중 하나를 입력하면 그 단의 구구단 결과를 한 줄에 출력하는 프로그램을 작성하세요.\")"
   ],
   "metadata": {
    "collapsed": false,
    "pycharm": {
     "name": "#%%\n"
    }
   }
  },
  {
   "cell_type": "markdown",
   "source": [
    "# 문제37 : count 사용하기\n",
    "\n",
    "새 학기를 맞아 호준이네 반은 반장 선거를 하기로 했습니다.  그런데 표를 하나씩 개표하는 과정이 너무 번거롭게 느껴진 당신은 학생들이 뽑은 후보들을 입력받으면 뽑힌 학생의 이름과 받은 표 수를 출력하는 프로그램을 작성하기로 하였습니다."
   ],
   "metadata": {
    "collapsed": false
   }
  },
  {
   "cell_type": "markdown",
   "source": [
    "입력\n",
    "원범 원범 혜원 혜원 혜원 혜원 유진 유진\n",
    "\n",
    "출력\n",
    "혜원(이)가 총 4표로 반장이 되었습니다."
   ],
   "metadata": {
    "collapsed": false
   }
  },
  {
   "cell_type": "code",
   "execution_count": 111,
   "outputs": [
    {
     "name": "stdout",
     "output_type": "stream",
     "text": [
      "혜원(이)가 총 4표로 반장이 되었습니다.\n"
     ]
    }
   ],
   "source": [
    "data = list(input().strip().split())\n",
    "\n",
    "winner = max(data, key=data.count)\n",
    "counts = data.count(winner)\n",
    "\n",
    "print(f'{winner}(이)가 총 {counts}표로 반장이 되었습니다.')"
   ],
   "metadata": {
    "collapsed": false,
    "pycharm": {
     "name": "#%%\n"
    }
   }
  },
  {
   "cell_type": "markdown",
   "source": [
    "# 문제38 : 호준이의 아르바이트\n",
    "\n",
    "호준이는 아르바이트로 영어 학원에서 단어 시험지를 채점하는 일을 하고 있다. 호준이가 일하는 학원은 매번 1위부터 3위까지의 학생에게 상으로 사탕을 준다. 그런데 오늘은 마침 사탕이 다 떨어져서 호준이가 채점을 하고 점수를 보내면, 당신이 아이들의 숫자만큼 사탕을 사러 가기로 했다.\n",
    "\n",
    "학생들의 점수를 공백으로 구분하여 입력받는다. 1위~ 3위 학생은 여러명일 수 있고 1~3위 학생 중 중복되는 학생까지 포함하여 사탕을 사기로 한다.\n",
    "\n",
    "- 학생 수는 4명 이상입니다.\n",
    "- 숫자 외에 다른 값은 입력되지 않습니다.\n",
    "\n",
    "```\n",
    "점수입력 : 97 86 75 66 55 97 85 97 97 95\n",
    "출력 : 6\n",
    "```\n"
   ],
   "metadata": {
    "collapsed": false,
    "pycharm": {
     "name": "#%% md\n"
    }
   }
  },
  {
   "cell_type": "code",
   "execution_count": 168,
   "outputs": [
    {
     "name": "stdout",
     "output_type": "stream",
     "text": [
      "6\n"
     ]
    }
   ],
   "source": [
    "from collections import Counter\n",
    "\n",
    "data = list(input().strip().split())\n",
    "l = sorted(list(Counter(data).keys()), reverse=True)\n",
    "\n",
    "result = 0\n",
    "\n",
    "if len(l) > 3:\n",
    "    for i in l[:3]:\n",
    "        result += Counter(data)[i]\n",
    "    print(result)\n",
    "else:\n",
    "    print('학생 수는 4명 이상입니다')"
   ],
   "metadata": {
    "collapsed": false,
    "pycharm": {
     "name": "#%%\n"
    }
   }
  },
  {
   "cell_type": "code",
   "execution_count": 169,
   "outputs": [
    {
     "name": "stdout",
     "output_type": "stream",
     "text": [
      "0\n"
     ]
    }
   ],
   "source": [
    "data = input().split()\n",
    "data = [int(i) for i in data]\n",
    "\n",
    "count = 0\n",
    "\n",
    "if len(set(data)) <= 3:\n",
    "    count = len(data)\n",
    "else:\n",
    "    break_point = sorted(list(set(data)), reverse=True)[3]\n",
    "    data_sorted = sorted(data, reverse=True)\n",
    "    for i in data_sorted:\n",
    "        if break_point == i:\n",
    "            break\n",
    "        else:\n",
    "            count += 1\n",
    "\n",
    "print(count)"
   ],
   "metadata": {
    "collapsed": false,
    "pycharm": {
     "name": "#%%\n"
    }
   }
  },
  {
   "cell_type": "markdown",
   "source": [
    "# 문제39 : 오타 수정하기\n",
    "\n",
    "혜원이는 평소 영타가 빠르고 정확한 것을 친구들에게 자랑하고 다녔습니다. 반 친구들이 혜원이의 타자 속도가 빠르다는 것을 모두 알게 되자 혜원이는 모두의 앞에서 타자 실력을 보여주게 됩니다.\n",
    "\n",
    "그런데 막상 보여주려니 긴장이 되서 문장의 모든 e를 q로, n을 b로 잘못 친 것을 발견했습니다.\n",
    "혜원이는 프로그램을 돌려 재빠르게 모든 q를 e로, b를 n으로 바꾸는 프로그램을 작성하려고 합니다.\n",
    "\n",
    "**문장이 입력되면 모든 q를 e로, b를 n으로 바꾸는 프로그램을 작성해 주세요.**\n",
    "\n",
    "- 완성하려는 문장 안에 q나 b가 들어가지 않는다고 가정합니다.\n",
    "\n",
    "입출력\n",
    "\n",
    "입력 : querty\n",
    "출력 : euerty\n",
    "\n",
    "입력 : hqllo my bamq is hyqwob\n",
    "출력 : hello my name is hyewon"
   ],
   "metadata": {
    "collapsed": false
   }
  },
  {
   "cell_type": "code",
   "execution_count": 9,
   "outputs": [
    {
     "name": "stdout",
     "output_type": "stream",
     "text": [
      "hello my name is hyewon\n"
     ]
    }
   ],
   "source": [
    "data = input()\n",
    "\n",
    "print(data.replace('q', 'e').replace('b', 'n'))"
   ],
   "metadata": {
    "collapsed": false,
    "pycharm": {
     "name": "#%%\n"
    }
   }
  },
  {
   "cell_type": "markdown",
   "source": [
    "# 문제40 : 놀이동산에 가자\n",
    "\n",
    "테마파크에 온 원범이와 친구들은 놀이기구를 타려고 합니다. 모든 놀이기구는 한번에 타는 인원수에는 제한이 없지만 제한 무게를 넘으면 무조건 다음 기구를 타야 합니다.\n",
    "\n",
    "**원범이와 친구들이 총 몇 명 탈 수 있는지 알 수 있는 프로그램을 작성해 주세요.**\n",
    "\n",
    "첫번째 줄에서 제한 무게가 주어지고 두번째 줄에서는 함께한 친구들의 수 n이 주어집니다.\n",
    "그 다음 차례대로 탑승할 친구들의 몸무게가 주어집니다. 몸무게는 무작위로 주어집니다.\n",
    "\n",
    "- 단, 놀이기구는 선착순으로만 탈 수 있습니다.\n",
    "- 두 명 이상의 인원이 항상 탑승합니다.\n",
    "\n",
    "```\n",
    "입력\n",
    "\n",
    "50\n",
    "5\n",
    "20\n",
    "20\n",
    "20\n",
    "20\n",
    "20\n",
    "\n",
    "출력\n",
    "2\n",
    "```"
   ],
   "metadata": {
    "collapsed": false
   }
  },
  {
   "cell_type": "code",
   "execution_count": 21,
   "outputs": [
    {
     "name": "stdout",
     "output_type": "stream",
     "text": [
      "2\n"
     ]
    }
   ],
   "source": [
    "limit = int(input())\n",
    "friends = int(input())\n",
    "queue = []\n",
    "\n",
    "for i in range(friends):\n",
    "    queue.append(int(input()))\n",
    "\n",
    "Rides = 0\n",
    "\n",
    "while True:\n",
    "    if limit < (Rides + queue[0]):\n",
    "        break\n",
    "    else:\n",
    "        Rides += queue.pop(0)\n",
    "\n",
    "print(friends - len(queue))"
   ],
   "metadata": {
    "collapsed": false,
    "pycharm": {
     "name": "#%%\n"
    }
   }
  },
  {
   "cell_type": "code",
   "execution_count": 22,
   "outputs": [
    {
     "ename": "ValueError",
     "evalue": "invalid literal for int() with base 10: ''",
     "output_type": "error",
     "traceback": [
      "\u001B[1;31m---------------------------------------------------------------------------\u001B[0m",
      "\u001B[1;31mValueError\u001B[0m                                Traceback (most recent call last)",
      "\u001B[1;32m~\\AppData\\Local\\Temp/ipykernel_15784/331855142.py\u001B[0m in \u001B[0;36m<module>\u001B[1;34m\u001B[0m\n\u001B[0;32m      2\u001B[0m \u001B[0mtotal\u001B[0m \u001B[1;33m=\u001B[0m \u001B[1;36m0\u001B[0m\u001B[1;33m\u001B[0m\u001B[1;33m\u001B[0m\u001B[0m\n\u001B[0;32m      3\u001B[0m \u001B[0mcount\u001B[0m \u001B[1;33m=\u001B[0m \u001B[1;36m0\u001B[0m\u001B[1;33m\u001B[0m\u001B[1;33m\u001B[0m\u001B[0m\n\u001B[1;32m----> 4\u001B[1;33m \u001B[0mlimit\u001B[0m \u001B[1;33m=\u001B[0m \u001B[0mint\u001B[0m\u001B[1;33m(\u001B[0m\u001B[0minput\u001B[0m\u001B[1;33m(\u001B[0m\u001B[1;34m'제한무게는 얼마인가요? : '\u001B[0m\u001B[1;33m)\u001B[0m\u001B[1;33m)\u001B[0m\u001B[1;33m\u001B[0m\u001B[1;33m\u001B[0m\u001B[0m\n\u001B[0m\u001B[0;32m      5\u001B[0m \u001B[0mn\u001B[0m \u001B[1;33m=\u001B[0m \u001B[0mint\u001B[0m\u001B[1;33m(\u001B[0m\u001B[0minput\u001B[0m\u001B[1;33m(\u001B[0m\u001B[1;34m'몇명이 탈 수 있나요? : '\u001B[0m\u001B[1;33m)\u001B[0m\u001B[1;33m)\u001B[0m\u001B[1;33m\u001B[0m\u001B[1;33m\u001B[0m\u001B[0m\n\u001B[0;32m      6\u001B[0m \u001B[1;33m\u001B[0m\u001B[0m\n",
      "\u001B[1;31mValueError\u001B[0m: invalid literal for int() with base 10: ''"
     ]
    }
   ],
   "source": [
    "# 기존코드\n",
    "total = 0\n",
    "count = 0\n",
    "limit = int(input('제한무게는 얼마인가요? : '))\n",
    "n = int(input('몇명이 탈 수 있나요? : '))\n",
    "\n",
    "for i in range(n):\n",
    "    total += int(input('몸무게를 입력해주세요 : '))\n",
    "    if total <= limit:\n",
    "        count += 1\n",
    "\n",
    "\n",
    "print(count)\n",
    "\n",
    "# 기존 코드 2\n",
    "\n",
    "제한무게 = int(input())\n",
    "친구수 = int(input())\n",
    "친구몸무게 = []\n",
    "for i in range(친구수):\n",
    "    친구몸무게.append(int(input()))\n",
    "\n",
    "전체몸무게 = 0\n",
    "for i in range(len(친구몸무게)):\n",
    "    전체몸무게 += 친구몸무게[i]\n",
    "    print(전체몸무게, 제한무게)\n",
    "    if 전체몸무게 > 제한무게:\n",
    "        print(i)\n",
    "        break\n",
    "\n",
    "# 새로 작성된 코드\n",
    "제한무게 = float(input())\n",
    "친구수 = int(input())\n",
    "친구몸무게 = []\n",
    "전체몸무게 = 0\n",
    "제한수 = 0\n",
    "비교 = True\n",
    "\n",
    "for i in range(친구수):\n",
    "    친구몸무게.append(float(input()))\n",
    "    전체몸무게 += 친구몸무게[i]\n",
    "    if 전체몸무게 > 제한무게:\n",
    "        if 비교:\n",
    "            비교 = False\n",
    "            제한수 = i\n",
    "if 제한수 == 0 and 친구몸무게[0] <= 제한무게:\n",
    "    print(len(친구몸무게))\n",
    "else:\n",
    "    print(제한수)"
   ],
   "metadata": {
    "collapsed": false,
    "pycharm": {
     "name": "#%%\n"
    }
   }
  }
 ],
 "metadata": {
  "kernelspec": {
   "display_name": "Python 3",
   "language": "python",
   "name": "python3"
  },
  "language_info": {
   "codemirror_mode": {
    "name": "ipython",
    "version": 2
   },
   "file_extension": ".py",
   "mimetype": "text/x-python",
   "name": "python",
   "nbconvert_exporter": "python",
   "pygments_lexer": "ipython2",
   "version": "2.7.6"
  }
 },
 "nbformat": 4,
 "nbformat_minor": 0
}