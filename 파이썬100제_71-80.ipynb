{
 "cells": [
  {
   "cell_type": "markdown",
   "source": [
    "# 문제71 : 깊이 우선 탐색\n",
    "\n",
    "*깊이 우선 탐색*이란 목표한 노드를 찾기 위해 가장 우선순위가 높은 노드의 자식으로 깊이 들어 갔다가 목표 노드가 존재하지 않으면 처음 방문한 노드와 연결된 다른 노드부터 그 자식 노드로 파고드는 검색 방법을 말합니다.\n",
    "\n",
    "![https://s3-us-west-2.amazonaws.com/secure.notion-static.com/22aa2540-0fa0-4fc2-8953-4222bf62f824/Untitled.png](https://s3-us-west-2.amazonaws.com/secure.notion-static.com/22aa2540-0fa0-4fc2-8953-4222bf62f824/Untitled.png)\n",
    "\n",
    "다음과 같이 리스트 형태로 노드들의 연결 관계가 주어진다고 할 때 깊이 우선 탐색으로 이 노드들을 탐색했을 때의 순서를 공백으로 구분하여 출력하는 프로그램을 완성하세요.\n",
    "\n",
    "1. 빨간색으로 Pass라고 되어 있는 부분을 완성해주세요.\n",
    "\n",
    "2. 깊이 우선 탐색을 오른쪽, 왼쪽 둘 다 구현해보세요.\n",
    "\n",
    "3. 리스트로도 구현해보세요.\n",
    "\n",
    "```\n",
    "1. 데이터\n",
    "\n",
    "graph = {'E': set(['D', 'A']),\n",
    "         'F': set(['D']),\n",
    "         'A': set(['E', 'C', 'B']),\n",
    "         'B': set(['A']),\n",
    "         'C': set(['A']),\n",
    "         'D': set(['E','F'])}\n",
    "\n",
    "2. 출력\n",
    "['E', 'A', 'B', 'C', 'D', 'F']\n",
    "\n",
    "3. 코드\n",
    "\n",
    "\n",
    "graph = {\n",
    "        'A': set(['B', 'C', 'E']),\n",
    "        'B': set(['A']),\n",
    "        'C': set(['A']),\n",
    "        'D': set(['E', 'F']),\n",
    "        'E': set(['A', 'D']),\n",
    "        'F': set(['D'])\n",
    "}\n",
    "\n",
    "def dfs(graph, start):\n",
    "    visited = []\n",
    "    stack = [start]\n",
    "\n",
    "    while stack:\n",
    "        n = stack.pop()\n",
    "        if n not in visited:\n",
    "            visited.append(n)\n",
    "            pass\n",
    "    return visited\n",
    "\n",
    "print(dfs(graph, 'E'))\n",
    "```"
   ],
   "metadata": {
    "collapsed": false
   }
  },
  {
   "cell_type": "code",
   "execution_count": 23,
   "metadata": {
    "collapsed": true
   },
   "outputs": [],
   "source": [
    "graph = {\n",
    "        'A': set(['B', 'C', 'E']),\n",
    "        'B': set(['A']),\n",
    "        'C': set(['A']),\n",
    "        'D': set(['E', 'F']),\n",
    "        'E': set(['A', 'D']),\n",
    "        'F': set(['D'])\n",
    "}"
   ]
  },
  {
   "cell_type": "code",
   "execution_count": 19,
   "outputs": [
    {
     "data": {
      "text/plain": "{'A', 'D'}"
     },
     "execution_count": 19,
     "metadata": {},
     "output_type": "execute_result"
    }
   ],
   "source": [
    "graph.get('E')"
   ],
   "metadata": {
    "collapsed": false,
    "pycharm": {
     "name": "#%%\n"
    }
   }
  },
  {
   "cell_type": "code",
   "execution_count": 27,
   "outputs": [
    {
     "ename": "TypeError",
     "evalue": "unhashable type: 'list'",
     "output_type": "error",
     "traceback": [
      "\u001B[1;31m---------------------------------------------------------------------------\u001B[0m",
      "\u001B[1;31mTypeError\u001B[0m                                 Traceback (most recent call last)",
      "\u001B[1;32m~\\AppData\\Local\\Temp/ipykernel_39640/2870221348.py\u001B[0m in \u001B[0;36m<module>\u001B[1;34m\u001B[0m\n\u001B[0;32m     14\u001B[0m     \u001B[1;32mreturn\u001B[0m \u001B[0mvisited\u001B[0m\u001B[1;33m\u001B[0m\u001B[1;33m\u001B[0m\u001B[0m\n\u001B[0;32m     15\u001B[0m \u001B[1;33m\u001B[0m\u001B[0m\n\u001B[1;32m---> 16\u001B[1;33m \u001B[0mprint\u001B[0m\u001B[1;33m(\u001B[0m\u001B[0mdfs\u001B[0m\u001B[1;33m(\u001B[0m\u001B[0mgraph\u001B[0m\u001B[1;33m,\u001B[0m \u001B[1;34m'E'\u001B[0m\u001B[1;33m)\u001B[0m\u001B[1;33m)\u001B[0m\u001B[1;33m\u001B[0m\u001B[1;33m\u001B[0m\u001B[0m\n\u001B[0m",
      "\u001B[1;32m~\\AppData\\Local\\Temp/ipykernel_39640/2870221348.py\u001B[0m in \u001B[0;36mdfs\u001B[1;34m(graph, start)\u001B[0m\n\u001B[0;32m      7\u001B[0m         \u001B[1;32mif\u001B[0m \u001B[0mn\u001B[0m \u001B[1;32mnot\u001B[0m \u001B[1;32min\u001B[0m \u001B[0mvisited\u001B[0m\u001B[1;33m:\u001B[0m\u001B[1;33m\u001B[0m\u001B[1;33m\u001B[0m\u001B[0m\n\u001B[0;32m      8\u001B[0m             \u001B[0mvisited\u001B[0m\u001B[1;33m.\u001B[0m\u001B[0mappend\u001B[0m\u001B[1;33m(\u001B[0m\u001B[0mn\u001B[0m\u001B[1;33m)\u001B[0m\u001B[1;33m\u001B[0m\u001B[1;33m\u001B[0m\u001B[0m\n\u001B[1;32m----> 9\u001B[1;33m             \u001B[0mdfs\u001B[0m\u001B[1;33m(\u001B[0m\u001B[0mgraph\u001B[0m\u001B[1;33m,\u001B[0m \u001B[1;33m[\u001B[0m\u001B[0mgraph\u001B[0m\u001B[1;33m[\u001B[0m\u001B[0mn\u001B[0m\u001B[1;33m]\u001B[0m\u001B[1;33m]\u001B[0m\u001B[1;33m)\u001B[0m\u001B[1;33m\u001B[0m\u001B[1;33m\u001B[0m\u001B[0m\n\u001B[0m\u001B[0;32m     10\u001B[0m         \u001B[1;32melse\u001B[0m\u001B[1;33m:\u001B[0m\u001B[1;33m\u001B[0m\u001B[1;33m\u001B[0m\u001B[0m\n\u001B[0;32m     11\u001B[0m             \u001B[1;32mdel\u001B[0m \u001B[0mgraph\u001B[0m\u001B[1;33m[\u001B[0m\u001B[0mn\u001B[0m\u001B[1;33m]\u001B[0m\u001B[1;33m\u001B[0m\u001B[1;33m\u001B[0m\u001B[0m\n",
      "\u001B[1;32m~\\AppData\\Local\\Temp/ipykernel_39640/2870221348.py\u001B[0m in \u001B[0;36mdfs\u001B[1;34m(graph, start)\u001B[0m\n\u001B[0;32m      7\u001B[0m         \u001B[1;32mif\u001B[0m \u001B[0mn\u001B[0m \u001B[1;32mnot\u001B[0m \u001B[1;32min\u001B[0m \u001B[0mvisited\u001B[0m\u001B[1;33m:\u001B[0m\u001B[1;33m\u001B[0m\u001B[1;33m\u001B[0m\u001B[0m\n\u001B[0;32m      8\u001B[0m             \u001B[0mvisited\u001B[0m\u001B[1;33m.\u001B[0m\u001B[0mappend\u001B[0m\u001B[1;33m(\u001B[0m\u001B[0mn\u001B[0m\u001B[1;33m)\u001B[0m\u001B[1;33m\u001B[0m\u001B[1;33m\u001B[0m\u001B[0m\n\u001B[1;32m----> 9\u001B[1;33m             \u001B[0mdfs\u001B[0m\u001B[1;33m(\u001B[0m\u001B[0mgraph\u001B[0m\u001B[1;33m,\u001B[0m \u001B[1;33m[\u001B[0m\u001B[0mgraph\u001B[0m\u001B[1;33m[\u001B[0m\u001B[0mn\u001B[0m\u001B[1;33m]\u001B[0m\u001B[1;33m]\u001B[0m\u001B[1;33m)\u001B[0m\u001B[1;33m\u001B[0m\u001B[1;33m\u001B[0m\u001B[0m\n\u001B[0m\u001B[0;32m     10\u001B[0m         \u001B[1;32melse\u001B[0m\u001B[1;33m:\u001B[0m\u001B[1;33m\u001B[0m\u001B[1;33m\u001B[0m\u001B[0m\n\u001B[0;32m     11\u001B[0m             \u001B[1;32mdel\u001B[0m \u001B[0mgraph\u001B[0m\u001B[1;33m[\u001B[0m\u001B[0mn\u001B[0m\u001B[1;33m]\u001B[0m\u001B[1;33m\u001B[0m\u001B[1;33m\u001B[0m\u001B[0m\n",
      "\u001B[1;31mTypeError\u001B[0m: unhashable type: 'list'"
     ]
    }
   ],
   "source": [
    "def dfs(graph, start):\n",
    "    visited = []\n",
    "    stack = [start]\n",
    "\n",
    "    while stack:\n",
    "        n = stack.pop()\n",
    "        if n not in visited:\n",
    "            visited.append(n)\n",
    "            dfs(graph, graph[n])\n",
    "        else:\n",
    "            del graph[n]\n",
    "            pass\n",
    "\n",
    "    return visited\n",
    "\n",
    "print(dfs(graph, 'E'))"
   ],
   "metadata": {
    "collapsed": false,
    "pycharm": {
     "name": "#%%\n"
    }
   }
  },
  {
   "cell_type": "code",
   "execution_count": null,
   "outputs": [],
   "source": [],
   "metadata": {
    "collapsed": false,
    "pycharm": {
     "name": "#%%\n"
    }
   }
  }
 ],
 "metadata": {
  "kernelspec": {
   "display_name": "Python 3",
   "language": "python",
   "name": "python3"
  },
  "language_info": {
   "codemirror_mode": {
    "name": "ipython",
    "version": 2
   },
   "file_extension": ".py",
   "mimetype": "text/x-python",
   "name": "python",
   "nbconvert_exporter": "python",
   "pygments_lexer": "ipython2",
   "version": "2.7.6"
  }
 },
 "nbformat": 4,
 "nbformat_minor": 0
}