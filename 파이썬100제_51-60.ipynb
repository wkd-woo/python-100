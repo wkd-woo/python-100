{
 "cells": [
  {
   "cell_type": "markdown",
   "source": [
    "# 문제51 : merge sort를 만들어보자\n",
    "\n",
    "> 1. 리스트의 길이가 0 또는 1이면 이미 정렬된 것으로 본다. 그렇지 않은 경우에는\n",
    "> 2. 정렬되지 않은 리스트를 절반으로 잘라 비슷한 크기의 두 부분 리스트로 나눈다.\n",
    "> 3. 각 부분 리스트를 재귀적으로 합병 정렬을 이용해 정렬한다.\n",
    "> 4. 두 부분 리스트를 다시 하나의 정렬된 리스트로 합병한다.\n",
    "\n",
    "(출처 : 위키피디아)\n",
    "\n"
   ],
   "metadata": {
    "collapsed": false
   }
  },
  {
   "cell_type": "code",
   "execution_count": 2,
   "metadata": {
    "collapsed": true
   },
   "outputs": [
    {
     "name": "stdout",
     "output_type": "stream",
     "text": [
      "[45, 145, 165, 170, 171, 173, 175, 180]\n"
     ]
    }
   ],
   "source": [
    "#병합 정렬\n",
    "def 병합정렬(입력리스트):\n",
    "    입력리스트길이 = len(입력리스트)\n",
    "    if 입력리스트길이 <= 1:\n",
    "        return 입력리스트\n",
    "    중간값 = 입력리스트길이 // 2\n",
    "    그룹_하나 = 병합정렬(입력리스트[:중간값])\n",
    "    그룹_둘 = 병합정렬(입력리스트[중간값:])\n",
    "    결과값 = []\n",
    "\n",
    "    while 그룹_하나 and 그룹_둘:\n",
    "        if 그룹_하나[0] < 그룹_둘[0]:\n",
    "            결과값.append(그룹_하나.pop(0))\n",
    "        else:\n",
    "            결과값.append(그룹_둘.pop(0))\n",
    "\n",
    "    while 그룹_하나:\n",
    "        결과값.append(그룹_하나.pop(0))\n",
    "    while 그룹_둘:\n",
    "        결과값.append(그룹_둘.pop(0))\n",
    "    return 결과값\n",
    "\n",
    "\n",
    "주어진리스트 = [180, 145, 165, 45, 170, 175, 173, 171]\n",
    "#빈칸을 채워주세요\n",
    "\n",
    "print(병합정렬(주어진리스트))"
   ]
  },
  {
   "cell_type": "markdown",
   "source": [
    "# 문제52 : quick sort\n",
    "\n",
    "다음 빈 칸을 채워 퀵 정렬을 완성해주세요.\n",
    "\n",
    "2 4 9 3 2 12 6 7 88"
   ],
   "metadata": {
    "collapsed": false
   }
  },
  {
   "cell_type": "code",
   "execution_count": 32,
   "outputs": [
    {
     "name": "stdout",
     "output_type": "stream",
     "text": [
      "[2, 4, 9, 3, 2, 12, 6, 7, 88]\n",
      "[2, 2, 3, 4, 6, 7, 9, 12, 88]\n"
     ]
    }
   ],
   "source": [
    "def 퀵정렬(입력리스트):\n",
    "    입력리스트의길이 = len(입력리스트)\n",
    "    if 입력리스트의길이 <= 1:\n",
    "        return 입력리스트\n",
    "    기준값 = 입력리스트.pop(입력리스트의길이 // 2)\n",
    "    그룹_하나 = []\n",
    "    그룹_둘 = []\n",
    "\n",
    "    for i in range(입력리스트의길이 - 1):\n",
    "        if 입력리스트[i] <= 기준값:\n",
    "            그룹_하나.append(입력리스트[i])\n",
    "        else:\n",
    "            그룹_둘.append(입력리스트[i])\n",
    "    return 퀵정렬(그룹_하나) + [기준값] + 퀵정렬(그룹_둘)\n",
    "\n",
    "\n",
    "주어진리스트 = input().split(' ')\n",
    "주어진리스트 = list(map(int, 주어진리스트))\n",
    "\n",
    "print(주어진리스트)\n",
    "print(퀵정렬(주어진리스트))"
   ],
   "metadata": {
    "collapsed": false,
    "pycharm": {
     "name": "#%%\n"
    }
   }
  },
  {
   "cell_type": "markdown",
   "source": [
    "# 문제53 : 괄호 문자열\n",
    "\n",
    "괄호 문자열이란 괄호 기호인 '{', '}', '[', ']', '(', ')' 와 같은 것을 말한다. 그 중 괄호의 모양이 바르게 구성 된 문자열을 **바른 문자열**, 그렇지 않은 문자열을 **바르지 않은 문자열**이라 부르도록 하자.\n",
    "\n",
    "(())와 같은 문자열은 바른 문자열이지만 ()()) 와 같은 문자열은 바르지 않은 문자열이다.(해당 문제에서는 소괄호만 판별하지만, 실력이 되시는 분들은 중괄호와 대괄호까지 판별해보세요.)\n",
    "\n",
    "**입력으로 주어진 괄호 문자열이 바른 문자열인지 바르지 않은 문자열인지 \"YES\"와 \"NO\"로 구분된 문자열을 출력해보자.**"
   ],
   "metadata": {
    "collapsed": false
   }
  },
  {
   "cell_type": "code",
   "execution_count": 43,
   "outputs": [
    {
     "name": "stdout",
     "output_type": "stream",
     "text": [
      "['(', ')', '(', ')']\n"
     ]
    },
    {
     "data": {
      "text/plain": "True"
     },
     "execution_count": 43,
     "metadata": {},
     "output_type": "execute_result"
    }
   ],
   "source": [
    "string = list(input())\n",
    "\n",
    "opener = []\n",
    "closer = []\n",
    "\n",
    "print(string)\n",
    "\n",
    "\n",
    "def solution(string):\n",
    "    index = 0\n",
    "    for word in string:\n",
    "        if index < 0:\n",
    "            return False\n",
    "\n",
    "        if word == '(':\n",
    "            opener.append(word)\n",
    "            index += 1\n",
    "        elif word == ')':\n",
    "            closer.append(word)\n",
    "            index -= 1\n",
    "\n",
    "    if index != 0:\n",
    "        return False\n",
    "\n",
    "    return True\n",
    "\n",
    "\n",
    "solution(string)"
   ],
   "metadata": {
    "collapsed": false,
    "pycharm": {
     "name": "#%%\n"
    }
   }
  },
  {
   "cell_type": "code",
   "execution_count": 69,
   "outputs": [
    {
     "data": {
      "text/plain": "'c'"
     },
     "execution_count": 69,
     "metadata": {},
     "output_type": "execute_result"
    }
   ],
   "source": [
    "test = {1: 'a', 2: 'b', 3: 'c'}\n",
    "test[3]\n",
    "test.get(3)"
   ],
   "metadata": {
    "collapsed": false,
    "pycharm": {
     "name": "#%%\n"
    }
   }
  },
  {
   "cell_type": "code",
   "execution_count": 103,
   "outputs": [
    {
     "name": "stdout",
     "output_type": "stream",
     "text": [
      "['(', ')', ')', ')']\n"
     ]
    },
    {
     "ename": "IndexError",
     "evalue": "list index out of range",
     "output_type": "error",
     "traceback": [
      "\u001B[1;31m---------------------------------------------------------------------------\u001B[0m",
      "\u001B[1;31mIndexError\u001B[0m                                Traceback (most recent call last)",
      "\u001B[1;32m~\\AppData\\Local\\Temp/ipykernel_32472/916990430.py\u001B[0m in \u001B[0;36m<module>\u001B[1;34m\u001B[0m\n\u001B[0;32m     26\u001B[0m     \u001B[1;32mreturn\u001B[0m \u001B[1;32mTrue\u001B[0m\u001B[1;33m\u001B[0m\u001B[1;33m\u001B[0m\u001B[0m\n\u001B[0;32m     27\u001B[0m \u001B[1;33m\u001B[0m\u001B[0m\n\u001B[1;32m---> 28\u001B[1;33m \u001B[1;32mif\u001B[0m \u001B[0msolution\u001B[0m\u001B[1;33m(\u001B[0m\u001B[0ms\u001B[0m\u001B[1;33m)\u001B[0m\u001B[1;33m:\u001B[0m\u001B[1;33m\u001B[0m\u001B[1;33m\u001B[0m\u001B[0m\n\u001B[0m\u001B[0;32m     29\u001B[0m     \u001B[0mprint\u001B[0m\u001B[1;33m(\u001B[0m\u001B[1;34m'YES'\u001B[0m\u001B[1;33m)\u001B[0m\u001B[1;33m\u001B[0m\u001B[1;33m\u001B[0m\u001B[0m\n\u001B[0;32m     30\u001B[0m \u001B[1;32melse\u001B[0m\u001B[1;33m:\u001B[0m\u001B[1;33m\u001B[0m\u001B[1;33m\u001B[0m\u001B[0m\n",
      "\u001B[1;32m~\\AppData\\Local\\Temp/ipykernel_32472/916990430.py\u001B[0m in \u001B[0;36msolution\u001B[1;34m(s)\u001B[0m\n\u001B[0;32m     10\u001B[0m         \u001B[1;32mif\u001B[0m \u001B[0mword\u001B[0m \u001B[1;33m==\u001B[0m \u001B[1;34m'('\u001B[0m \u001B[1;32mor\u001B[0m \u001B[0mword\u001B[0m \u001B[1;33m==\u001B[0m \u001B[1;34m'{'\u001B[0m \u001B[1;32mor\u001B[0m \u001B[0mword\u001B[0m \u001B[1;33m==\u001B[0m \u001B[1;34m'['\u001B[0m\u001B[1;33m:\u001B[0m\u001B[1;33m\u001B[0m\u001B[1;33m\u001B[0m\u001B[0m\n\u001B[0;32m     11\u001B[0m             \u001B[0mstack\u001B[0m\u001B[1;33m.\u001B[0m\u001B[0mappend\u001B[0m\u001B[1;33m(\u001B[0m\u001B[0mword\u001B[0m\u001B[1;33m)\u001B[0m\u001B[1;33m\u001B[0m\u001B[1;33m\u001B[0m\u001B[0m\n\u001B[1;32m---> 12\u001B[1;33m         \u001B[1;32melif\u001B[0m \u001B[0mword\u001B[0m \u001B[1;33m==\u001B[0m \u001B[1;34m')'\u001B[0m \u001B[1;32mand\u001B[0m \u001B[0mstack\u001B[0m\u001B[1;33m[\u001B[0m\u001B[1;33m-\u001B[0m\u001B[1;36m1\u001B[0m\u001B[1;33m]\u001B[0m \u001B[1;33m==\u001B[0m \u001B[1;34m'('\u001B[0m\u001B[1;33m:\u001B[0m\u001B[1;33m\u001B[0m\u001B[1;33m\u001B[0m\u001B[0m\n\u001B[0m\u001B[0;32m     13\u001B[0m             \u001B[1;32mif\u001B[0m \u001B[0mlen\u001B[0m\u001B[1;33m(\u001B[0m\u001B[0mstack\u001B[0m\u001B[1;33m)\u001B[0m \u001B[1;33m==\u001B[0m \u001B[1;36m0\u001B[0m\u001B[1;33m:\u001B[0m\u001B[1;33m\u001B[0m\u001B[1;33m\u001B[0m\u001B[0m\n\u001B[0;32m     14\u001B[0m                 \u001B[1;32mreturn\u001B[0m \u001B[1;32mFalse\u001B[0m\u001B[1;33m\u001B[0m\u001B[1;33m\u001B[0m\u001B[0m\n",
      "\u001B[1;31mIndexError\u001B[0m: list index out of range"
     ]
    }
   ],
   "source": [
    "s = list(input())\n",
    "print(s)\n",
    "\n",
    "\n",
    "def solution(s):\n",
    "    stack = []\n",
    "    # pair = {'(': ')', '{': '}', '[': ']'}\n",
    "\n",
    "    for word in s:\n",
    "        if word == '(' or word == '{' or word == '[':\n",
    "            stack.append(word)\n",
    "        elif word == ')' and stack[-1] == '(':\n",
    "            if len(stack) == 0:\n",
    "                return False\n",
    "            stack.pop()\n",
    "        elif word == '}' and stack[-1] == '{':\n",
    "            if len(stack) == 0:\n",
    "                return False\n",
    "            stack.pop()\n",
    "        elif word == ']' and stack[-1] == '[':\n",
    "            if len(stack) == 0:\n",
    "                return False\n",
    "            stack.pop()\n",
    "        else:\n",
    "            return False\n",
    "    return True\n",
    "\n",
    "\n",
    "if solution(s):\n",
    "    print('YES')\n",
    "else:\n",
    "    print('NO')"
   ],
   "metadata": {
    "collapsed": false,
    "pycharm": {
     "name": "#%%\n"
    }
   }
  },
  {
   "cell_type": "markdown",
   "source": [
    "# 문제54 : 연속되는 수\n",
    "\n",
    "은주는 놀이공원 아르바이트를 하고 있습니다. 은주가 일하는 놀이공원에서는 현재 놀이공원 곳곳에 숨겨진 숫자 스탬프를 모아 오면 선물을 주는 이벤트를 하고 있습니다. 숫자 스탬프는 매일 그 수와 스탬프에 적힌 숫자가 바뀌지만 그 숫자는 항상 연속됩니다.\n",
    "그런데 요즘 다른 날에 찍은 스탬프를 가지고 와 선물을 달라고 하는 손님이 늘었습니다.\n",
    "\n",
    "스탬프에 적힌 숫자가 공백으로 구분되어 주어지면 이 숫자가 연속수인지 아닌지 \"YES\"와 \"NO\"로 판별하는 프로그램을 작성하세요.\n",
    "\n",
    "입력1\n",
    "1 2 3 4 5\n",
    "\n",
    "출력1\n",
    "YES\n",
    "\n",
    "\n",
    "입력2\n",
    "1 4 2 6 3\n",
    "\n",
    "출력2\n",
    "NO"
   ],
   "metadata": {
    "collapsed": false
   }
  },
  {
   "cell_type": "code",
   "execution_count": 22,
   "outputs": [
    {
     "data": {
      "text/plain": "False"
     },
     "execution_count": 22,
     "metadata": {},
     "output_type": "execute_result"
    }
   ],
   "source": [
    "def solution(stamps):\n",
    "    num = stamps[0]\n",
    "    for i, stamp in enumerate(stamps):\n",
    "        if stamp == (num + i):\n",
    "            pass\n",
    "        else:\n",
    "            return False\n",
    "\n",
    "    return True\n",
    "\n",
    "\n",
    "stamps = list(map(int, input().strip().split()))\n",
    "\n",
    "solution(stamps)"
   ],
   "metadata": {
    "collapsed": false,
    "pycharm": {
     "name": "#%%\n"
    }
   }
  },
  {
   "cell_type": "code",
   "execution_count": 23,
   "outputs": [
    {
     "name": "stdout",
     "output_type": "stream",
     "text": [
      "YES\n"
     ]
    }
   ],
   "source": [
    "user_input = input().split(' ')\n",
    "user_input = [int(i) for i in user_input]\n",
    "\n",
    "\n",
    "def sol(l):\n",
    "    l = sorted(l)\n",
    "    for i in range(len(l) - 1):\n",
    "        if l[i] + 1 != l[i + 1]:\n",
    "            return 'NO'\n",
    "    return 'YES'\n",
    "\n",
    "\n",
    "print(sol(user_input))"
   ],
   "metadata": {
    "collapsed": false,
    "pycharm": {
     "name": "#%%\n"
    }
   }
  },
  {
   "cell_type": "markdown",
   "source": [
    "# 문제55 : 하노이의 탑\n",
    "\n",
    "하노이의 탑은 프랑스 수학자 에두아르드가 처음으로 발표한 게임입니다. 하노이의 탑은 A, B, C 3개의 기둥과 기둥에 꽂을 수 있는 N개의 원판으로 이루어져 있습니다. 이 게임에서 다음의 규칙을 만족해야 합니다.\n",
    "\n",
    "> 1. 처음에 모든 원판은 A기둥에 꽂혀 있다.\n",
    "> 2. 모든 원판의 지름은 다르다.\n",
    "> 3. 이 원반은 세 개의 기둥 중 하나에 반드시 꽂혀야 한다.\n",
    "> 4. 작은 원반 위에 큰 원반을 놓을 수 없다.\n",
    "> 5. 한 번에 하나의 원판(가장 위에 있는 원판) 만을 옮길 수 있다.\n",
    ">\n",
    "\n",
    "이 규칙을 만족하며 A기둥에 있는 원반 N개를 모두 C 원반으로 옮기고 싶습니다.\n",
    "모든 원반을 옮기기 위해 실행되어야 할 최소 원반 이동 횟수를 계산하는 프로그램을 완성해주세요."
   ],
   "metadata": {
    "collapsed": false
   }
  },
  {
   "cell_type": "code",
   "execution_count": 24,
   "outputs": [
    {
     "name": "stdout",
     "output_type": "stream",
     "text": [
      "31\n"
     ]
    }
   ],
   "source": [
    "원판의이동경로 = []\n",
    "\n",
    "\n",
    "def 하노이(원반의수, 시작기둥, 목표기둥, 보조기둥):\n",
    "    #원판이 한개일 때에는 옮기면 됩니다.\n",
    "    if 원반의수 == 1:\n",
    "        원판의이동경로.append([시작기둥, 목표기둥])\n",
    "        return None\n",
    "    #원반의 n-1개를 경유기둥으로 옮기고\n",
    "    하노이(원반의수 - 1, 시작기둥, 보조기둥, 목표기둥)\n",
    "    #가장 큰 원반은 목표기둥으로\n",
    "    원판의이동경로.append([시작기둥, 목표기둥])\n",
    "    #경유기둥과 시작기둥을 바꿉니다!\n",
    "    하노이(원반의수 - 1, 보조기둥, 목표기둥, 시작기둥)\n",
    "\n",
    "\n",
    "user_input = int(input())\n",
    "하노이(user_input, 'A', 'C', 'B')\n",
    "\n",
    "print(len(원판의이동경로))"
   ],
   "metadata": {
    "collapsed": false,
    "pycharm": {
     "name": "#%%\n"
    }
   }
  },
  {
   "cell_type": "markdown",
   "source": [
    "# 문제56 : 리스트의 함수 응용\n",
    "\n",
    "다음의 딕셔너리가 주어졌을 때 한국의 면적과 가장 비슷한 국가와 그 차이를 출력하세요."
   ],
   "metadata": {
    "collapsed": false
   }
  },
  {
   "cell_type": "code",
   "execution_count": 84,
   "outputs": [],
   "source": [
    "nationWidth = {\n",
    "    'korea': 220877,\n",
    "    'Rusia': 17098242,\n",
    "    'China': 9596961,\n",
    "    'France': 543965,\n",
    "    'Japan': 377915,\n",
    "    'England': 242900\n",
    "}"
   ],
   "metadata": {
    "collapsed": false,
    "pycharm": {
     "name": "#%%\n"
    }
   }
  },
  {
   "cell_type": "code",
   "execution_count": 83,
   "outputs": [],
   "source": [
    "w = nationWidth['korea']\n",
    "nationWidth.pop('korea')\n",
    "l = list(nationWidth.items())"
   ],
   "metadata": {
    "collapsed": false,
    "pycharm": {
     "name": "#%%\n"
    }
   }
  },
  {
   "cell_type": "code",
   "execution_count": 95,
   "outputs": [],
   "source": [
    "gap = max(nationWidth.values())"
   ],
   "metadata": {
    "collapsed": false,
    "pycharm": {
     "name": "#%%\n"
    }
   }
  },
  {
   "cell_type": "code",
   "execution_count": 96,
   "outputs": [],
   "source": [
    "item = 0"
   ],
   "metadata": {
    "collapsed": false,
    "pycharm": {
     "name": "#%%\n"
    }
   }
  },
  {
   "cell_type": "code",
   "execution_count": 97,
   "outputs": [
    {
     "name": "stdout",
     "output_type": "stream",
     "text": [
      "England 22023\n"
     ]
    }
   ],
   "source": [
    "for i in l:\n",
    "    if gap > abs(i[1] - w):\n",
    "        gap = abs(i[1] - w)\n",
    "        item = i\n",
    "print(item[0], item[1] - w)"
   ],
   "metadata": {
    "collapsed": false,
    "pycharm": {
     "name": "#%%\n"
    }
   }
  },
  {
   "cell_type": "markdown",
   "source": [
    "# 문제57 : 내장함수 응용하기\n",
    "\n",
    "**0부터 1000까지 1의 개수를 세는 프로그램**을 만들려고 합니다. 예를 들어 0부터 20까지 1의 개수를 세어본다면 1, 10 11, 12, 13, 14, 15, 16, 17, 18, 19 에 각각 1이 들어가므로 12개의 1이 있게 됩니다. 11은 1이 2번 들어간 셈이죠.\n",
    "\n",
    "그렇다면 0부터 1000까지 수에서 1은 몇번이나 들어갔을까요? 출력해주세요!\n"
   ],
   "metadata": {
    "collapsed": false
   }
  },
  {
   "cell_type": "code",
   "execution_count": 4,
   "outputs": [
    {
     "name": "stdout",
     "output_type": "stream",
     "text": [
      "300\n"
     ]
    }
   ],
   "source": [
    "count = 0\n",
    "\n",
    "for number in range(1000):\n",
    "    if '1' in str(number):\n",
    "        for each in str(number):\n",
    "            if each == '1':\n",
    "                count += 1\n",
    "\n",
    "print(count)"
   ],
   "metadata": {
    "collapsed": false,
    "pycharm": {
     "name": "#%%\n"
    }
   }
  },
  {
   "cell_type": "code",
   "execution_count": 5,
   "outputs": [
    {
     "name": "stdout",
     "output_type": "stream",
     "text": [
      "301\n"
     ]
    }
   ],
   "source": [
    "def count(n):\n",
    "\tcountN = str(list(range(n+1))).count('1')\n",
    "\treturn countN\n",
    "\n",
    "print(count(1000))"
   ],
   "metadata": {
    "collapsed": false,
    "pycharm": {
     "name": "#%%\n"
    }
   }
  },
  {
   "cell_type": "markdown",
   "source": [],
   "metadata": {
    "collapsed": false
   }
  },
  {
   "cell_type": "markdown",
   "source": [
    "# 문제58 : 콤마 찍기\n",
    "\n",
    "원범이는 편의점 아르바이트가 끝난 후 정산을 하고자 합니다.\n",
    "정산을 빨리하고 집에가고 싶은 원범이는 프로그램을 만들려고 합니다.\n",
    "\n",
    "숫자를 입력 받고 천단위로 콤마(,)를 찍어주세요.\n",
    "\n",
    "예를들어, 123456789를 입력받았으면 123,456,789 를 출력해야합니다.\n"
   ],
   "metadata": {
    "collapsed": false
   }
  },
  {
   "cell_type": "code",
   "execution_count": 7,
   "outputs": [
    {
     "name": "stdout",
     "output_type": "stream",
     "text": [
      "123,456,789\n"
     ]
    }
   ],
   "source": [
    "정산비용 = int(input())\n",
    "\n",
    "print(format(정산비용, ','))"
   ],
   "metadata": {
    "collapsed": false,
    "pycharm": {
     "name": "#%%\n"
    }
   }
  },
  {
   "cell_type": "markdown",
   "source": [
    "# 문제59 : 빈칸채우기\n",
    "\n",
    "총 문자열의 길이는 50으로 제한하고 사용자가 문자열을 입력하면 그 문자열을 가운데 정렬을 해주고, 나머지 빈 부분에는 '='을 채워넣어주세요\n",
    "\n",
    "입력\n",
    "hi\n",
    "\n",
    "출력\n",
    "========================hi========================"
   ],
   "metadata": {
    "collapsed": false,
    "pycharm": {
     "name": "#%% md\n"
    }
   }
  },
  {
   "cell_type": "code",
   "execution_count": 9,
   "outputs": [
    {
     "data": {
      "text/plain": "'========================hi========================'"
     },
     "execution_count": 9,
     "metadata": {},
     "output_type": "execute_result"
    }
   ],
   "source": [
    "문자열 = input()\n",
    "\n",
    "문자열.center(50).replace(' ', '=')"
   ],
   "metadata": {
    "collapsed": false,
    "pycharm": {
     "name": "#%%\n"
    }
   }
  },
  {
   "cell_type": "code",
   "execution_count": 10,
   "outputs": [
    {
     "name": "stdout",
     "output_type": "stream",
     "text": [
      "========================hi========================\n"
     ]
    }
   ],
   "source": [
    "user_input = input()\n",
    "print(\"{0:=^50}\".format(user_input))"
   ],
   "metadata": {
    "collapsed": false,
    "pycharm": {
     "name": "#%%\n"
    }
   }
  },
  {
   "cell_type": "markdown",
   "source": [
    "# 문제60 : enumerate\n",
    "\n",
    "새학기가 되어 이름을 가나다 순서대로 배정하고 번호를 매기려고 합니다.\n",
    "코드에 입력된 이름을 아래와 같이 출력해주세요.\n",
    "\n",
    "데이터\n",
    "student = ['강은지','김유정','박현서','최성훈','홍유진','박지호','권윤일','김채리','한지호','김진이','김민호','강채연']\n",
    "\n",
    "\n",
    "출력\n",
    "번호: 1, 이름: 강은지\n",
    "번호: 2, 이름: 강채연\n",
    "번호: 3, 이름: 권윤일\n",
    "번호: 4, 이름: 김민호\n",
    "번호: 5, 이름: 김유정\n",
    "번호: 6, 이름: 김진이\n",
    "번호: 7, 이름: 김채리\n",
    "번호: 8, 이름: 박지호\n",
    "번호: 9, 이름: 박현서\n",
    "번호: 10, 이름: 최성훈\n",
    "번호: 11, 이름: 한지호\n",
    "번호: 12, 이름: 홍유진"
   ],
   "metadata": {
    "collapsed": false
   }
  },
  {
   "cell_type": "code",
   "execution_count": 14,
   "outputs": [],
   "source": [
    "student = ['강은지','김유정','박현서','최성훈','홍유진','박지호','권윤일','김채리','한지호','김진이','김민호','강채연']"
   ],
   "metadata": {
    "collapsed": false,
    "pycharm": {
     "name": "#%%\n"
    }
   }
  },
  {
   "cell_type": "code",
   "execution_count": 15,
   "outputs": [],
   "source": [
    "student.sort()"
   ],
   "metadata": {
    "collapsed": false,
    "pycharm": {
     "name": "#%%\n"
    }
   }
  },
  {
   "cell_type": "code",
   "execution_count": 18,
   "outputs": [
    {
     "name": "stdout",
     "output_type": "stream",
     "text": [
      "번호: 1, 이름: 강은지\n",
      "번호: 2, 이름: 강채연\n",
      "번호: 3, 이름: 권윤일\n",
      "번호: 4, 이름: 김민호\n",
      "번호: 5, 이름: 김유정\n",
      "번호: 6, 이름: 김진이\n",
      "번호: 7, 이름: 김채리\n",
      "번호: 8, 이름: 박지호\n",
      "번호: 9, 이름: 박현서\n",
      "번호: 10, 이름: 최성훈\n",
      "번호: 11, 이름: 한지호\n",
      "번호: 12, 이름: 홍유진\n"
     ]
    }
   ],
   "source": [
    "for i, name in enumerate(student):\n",
    "    print(f'번호: {i + 1}, 이름: {name}')\n"
   ],
   "metadata": {
    "collapsed": false,
    "pycharm": {
     "name": "#%%\n"
    }
   }
  },
  {
   "cell_type": "code",
   "execution_count": null,
   "outputs": [],
   "source": [],
   "metadata": {
    "collapsed": false,
    "pycharm": {
     "name": "#%%\n"
    }
   }
  }
 ],
 "metadata": {
  "kernelspec": {
   "display_name": "Python 3",
   "language": "python",
   "name": "python3"
  },
  "language_info": {
   "codemirror_mode": {
    "name": "ipython",
    "version": 2
   },
   "file_extension": ".py",
   "mimetype": "text/x-python",
   "name": "python",
   "nbconvert_exporter": "python",
   "pygments_lexer": "ipython2",
   "version": "2.7.6"
  }
 },
 "nbformat": 4,
 "nbformat_minor": 0
}